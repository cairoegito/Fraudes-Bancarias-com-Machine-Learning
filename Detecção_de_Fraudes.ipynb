{
  "nbformat": 4,
  "nbformat_minor": 0,
  "metadata": {
    "colab": {
      "provenance": [],
      "include_colab_link": true
    },
    "kernelspec": {
      "name": "python3",
      "display_name": "Python 3"
    },
    "language_info": {
      "name": "python"
    }
  },
  "cells": [
    {
      "cell_type": "markdown",
      "metadata": {
        "id": "view-in-github",
        "colab_type": "text"
      },
      "source": [
        "<a href=\"https://colab.research.google.com/github/cairoegito/Fraudes-Bancarias-com-Machine-Learning/blob/main/Detec%C3%A7%C3%A3o_de_Fraudes.ipynb\" target=\"_parent\"><img src=\"https://colab.research.google.com/assets/colab-badge.svg\" alt=\"Open In Colab\"/></a>"
      ]
    },
    {
      "cell_type": "markdown",
      "source": [
        "**OBJETIVO DE NEGÓCIO**\n",
        "\n",
        "Identificar possíveis compras fraudulentas para evitar prejuízos financeiros.  O objetivo deste projeto é detectar comportamentos não usuais, ou seja, transações atípicas em comparação às outras e para isso usaremos técnicas exploratória de dados e de Machine Learning. Esse problema cada vez mais recorrente e real conforme as facilidades tecnológicas se intensificam pode dar e vem dando diversos prejuízos financeiros e similares, tais como as notícias já apontam:\n",
        "\n",
        " https://exame.com/invest/minhas-financas/golpes-bancarios-disparam-e-devem-gerar-prejuizos-de-r-25-bilhoes-neste-ano/"
      ],
      "metadata": {
        "id": "bIpyY9czpFGS"
      }
    },
    {
      "cell_type": "markdown",
      "source": [
        "## **Importando Bibliotecas e dados**"
      ],
      "metadata": {
        "id": "B2VOeQaEectX"
      }
    },
    {
      "cell_type": "code",
      "source": [
        "#Importando bibliotecas\n",
        "import pandas as pd\n",
        "import numpy as np \n",
        "import seaborn as sns \n",
        "import matplotlib.pyplot as plt\n",
        "import plotly.express as px\n",
        "import warnings\n",
        "warnings.filterwarnings(\"ignore\")\n",
        "\n",
        "from sklearn.preprocessing import StandardScaler\n",
        "from sklearn.preprocessing import LabelEncoder\n",
        "from sklearn.model_selection import train_test_split\n",
        "from sklearn.model_selection import GridSearchCV\n",
        "from sklearn.metrics import confusion_matrix,accuracy_score,f1_score,precision_score,plot_roc_curve,accuracy_score,recall_score\n",
        "from sklearn.metrics import plot_confusion_matrix\n"
      ],
      "metadata": {
        "id": "JVeVpbL6p0dU"
      },
      "execution_count": 36,
      "outputs": []
    },
    {
      "cell_type": "code",
      "source": [
        "#Importando Dataset\n",
        "df = pd.read_csv(\"/content/drive/MyDrive/Fraudes TERA - Projeto/creditcard.csv.zip\" , sep=\",\")"
      ],
      "metadata": {
        "id": "u2eUrIhkqHpA"
      },
      "execution_count": 37,
      "outputs": []
    },
    {
      "cell_type": "code",
      "source": [
        "from google.colab import drive\n",
        "drive.mount('/content/drive')"
      ],
      "metadata": {
        "colab": {
          "base_uri": "https://localhost:8080/"
        },
        "id": "T3QGaQfEBWHC",
        "outputId": "7768504c-1c49-4b34-b38d-f35bbcaa48f1"
      },
      "execution_count": null,
      "outputs": [
        {
          "output_type": "stream",
          "name": "stdout",
          "text": [
            "Mounted at /content/drive\n"
          ]
        }
      ]
    },
    {
      "cell_type": "markdown",
      "source": [
        "## **Análise exploratória**"
      ],
      "metadata": {
        "id": "2jkEFOswen-r"
      }
    },
    {
      "cell_type": "code",
      "source": [
        "#Checando primeiras linhas\n",
        "df.head()"
      ],
      "metadata": {
        "colab": {
          "base_uri": "https://localhost:8080/",
          "height": 300
        },
        "id": "X-XNu7CgqRwx",
        "outputId": "f1d444e7-ee09-40ba-cd9e-848528ee98a2"
      },
      "execution_count": 38,
      "outputs": [
        {
          "output_type": "execute_result",
          "data": {
            "text/plain": [
              "     Time       V1       V2      V3       V4       V5       V6       V7  \\\n",
              "0 0.00000 -1.35981 -0.07278 2.53635  1.37816 -0.33832  0.46239  0.23960   \n",
              "1 0.00000  1.19186  0.26615 0.16648  0.44815  0.06002 -0.08236 -0.07880   \n",
              "2 1.00000 -1.35835 -1.34016 1.77321  0.37978 -0.50320  1.80050  0.79146   \n",
              "3 1.00000 -0.96627 -0.18523 1.79299 -0.86329 -0.01031  1.24720  0.23761   \n",
              "4 2.00000 -1.15823  0.87774 1.54872  0.40303 -0.40719  0.09592  0.59294   \n",
              "\n",
              "        V8       V9  ...      V21      V22      V23      V24      V25  \\\n",
              "0  0.09870  0.36379  ... -0.01831  0.27784 -0.11047  0.06693  0.12854   \n",
              "1  0.08510 -0.25543  ... -0.22578 -0.63867  0.10129 -0.33985  0.16717   \n",
              "2  0.24768 -1.51465  ...  0.24800  0.77168  0.90941 -0.68928 -0.32764   \n",
              "3  0.37744 -1.38702  ... -0.10830  0.00527 -0.19032 -1.17558  0.64738   \n",
              "4 -0.27053  0.81774  ... -0.00943  0.79828 -0.13746  0.14127 -0.20601   \n",
              "\n",
              "       V26      V27      V28    Amount  Class  \n",
              "0 -0.18911  0.13356 -0.02105 149.62000      0  \n",
              "1  0.12589 -0.00898  0.01472   2.69000      0  \n",
              "2 -0.13910 -0.05535 -0.05975 378.66000      0  \n",
              "3 -0.22193  0.06272  0.06146 123.50000      0  \n",
              "4  0.50229  0.21942  0.21515  69.99000      0  \n",
              "\n",
              "[5 rows x 31 columns]"
            ],
            "text/html": [
              "\n",
              "  <div id=\"df-285a5d05-26b5-42b2-b12c-dec0ebe61d98\">\n",
              "    <div class=\"colab-df-container\">\n",
              "      <div>\n",
              "<style scoped>\n",
              "    .dataframe tbody tr th:only-of-type {\n",
              "        vertical-align: middle;\n",
              "    }\n",
              "\n",
              "    .dataframe tbody tr th {\n",
              "        vertical-align: top;\n",
              "    }\n",
              "\n",
              "    .dataframe thead th {\n",
              "        text-align: right;\n",
              "    }\n",
              "</style>\n",
              "<table border=\"1\" class=\"dataframe\">\n",
              "  <thead>\n",
              "    <tr style=\"text-align: right;\">\n",
              "      <th></th>\n",
              "      <th>Time</th>\n",
              "      <th>V1</th>\n",
              "      <th>V2</th>\n",
              "      <th>V3</th>\n",
              "      <th>V4</th>\n",
              "      <th>V5</th>\n",
              "      <th>V6</th>\n",
              "      <th>V7</th>\n",
              "      <th>V8</th>\n",
              "      <th>V9</th>\n",
              "      <th>...</th>\n",
              "      <th>V21</th>\n",
              "      <th>V22</th>\n",
              "      <th>V23</th>\n",
              "      <th>V24</th>\n",
              "      <th>V25</th>\n",
              "      <th>V26</th>\n",
              "      <th>V27</th>\n",
              "      <th>V28</th>\n",
              "      <th>Amount</th>\n",
              "      <th>Class</th>\n",
              "    </tr>\n",
              "  </thead>\n",
              "  <tbody>\n",
              "    <tr>\n",
              "      <th>0</th>\n",
              "      <td>0.00000</td>\n",
              "      <td>-1.35981</td>\n",
              "      <td>-0.07278</td>\n",
              "      <td>2.53635</td>\n",
              "      <td>1.37816</td>\n",
              "      <td>-0.33832</td>\n",
              "      <td>0.46239</td>\n",
              "      <td>0.23960</td>\n",
              "      <td>0.09870</td>\n",
              "      <td>0.36379</td>\n",
              "      <td>...</td>\n",
              "      <td>-0.01831</td>\n",
              "      <td>0.27784</td>\n",
              "      <td>-0.11047</td>\n",
              "      <td>0.06693</td>\n",
              "      <td>0.12854</td>\n",
              "      <td>-0.18911</td>\n",
              "      <td>0.13356</td>\n",
              "      <td>-0.02105</td>\n",
              "      <td>149.62000</td>\n",
              "      <td>0</td>\n",
              "    </tr>\n",
              "    <tr>\n",
              "      <th>1</th>\n",
              "      <td>0.00000</td>\n",
              "      <td>1.19186</td>\n",
              "      <td>0.26615</td>\n",
              "      <td>0.16648</td>\n",
              "      <td>0.44815</td>\n",
              "      <td>0.06002</td>\n",
              "      <td>-0.08236</td>\n",
              "      <td>-0.07880</td>\n",
              "      <td>0.08510</td>\n",
              "      <td>-0.25543</td>\n",
              "      <td>...</td>\n",
              "      <td>-0.22578</td>\n",
              "      <td>-0.63867</td>\n",
              "      <td>0.10129</td>\n",
              "      <td>-0.33985</td>\n",
              "      <td>0.16717</td>\n",
              "      <td>0.12589</td>\n",
              "      <td>-0.00898</td>\n",
              "      <td>0.01472</td>\n",
              "      <td>2.69000</td>\n",
              "      <td>0</td>\n",
              "    </tr>\n",
              "    <tr>\n",
              "      <th>2</th>\n",
              "      <td>1.00000</td>\n",
              "      <td>-1.35835</td>\n",
              "      <td>-1.34016</td>\n",
              "      <td>1.77321</td>\n",
              "      <td>0.37978</td>\n",
              "      <td>-0.50320</td>\n",
              "      <td>1.80050</td>\n",
              "      <td>0.79146</td>\n",
              "      <td>0.24768</td>\n",
              "      <td>-1.51465</td>\n",
              "      <td>...</td>\n",
              "      <td>0.24800</td>\n",
              "      <td>0.77168</td>\n",
              "      <td>0.90941</td>\n",
              "      <td>-0.68928</td>\n",
              "      <td>-0.32764</td>\n",
              "      <td>-0.13910</td>\n",
              "      <td>-0.05535</td>\n",
              "      <td>-0.05975</td>\n",
              "      <td>378.66000</td>\n",
              "      <td>0</td>\n",
              "    </tr>\n",
              "    <tr>\n",
              "      <th>3</th>\n",
              "      <td>1.00000</td>\n",
              "      <td>-0.96627</td>\n",
              "      <td>-0.18523</td>\n",
              "      <td>1.79299</td>\n",
              "      <td>-0.86329</td>\n",
              "      <td>-0.01031</td>\n",
              "      <td>1.24720</td>\n",
              "      <td>0.23761</td>\n",
              "      <td>0.37744</td>\n",
              "      <td>-1.38702</td>\n",
              "      <td>...</td>\n",
              "      <td>-0.10830</td>\n",
              "      <td>0.00527</td>\n",
              "      <td>-0.19032</td>\n",
              "      <td>-1.17558</td>\n",
              "      <td>0.64738</td>\n",
              "      <td>-0.22193</td>\n",
              "      <td>0.06272</td>\n",
              "      <td>0.06146</td>\n",
              "      <td>123.50000</td>\n",
              "      <td>0</td>\n",
              "    </tr>\n",
              "    <tr>\n",
              "      <th>4</th>\n",
              "      <td>2.00000</td>\n",
              "      <td>-1.15823</td>\n",
              "      <td>0.87774</td>\n",
              "      <td>1.54872</td>\n",
              "      <td>0.40303</td>\n",
              "      <td>-0.40719</td>\n",
              "      <td>0.09592</td>\n",
              "      <td>0.59294</td>\n",
              "      <td>-0.27053</td>\n",
              "      <td>0.81774</td>\n",
              "      <td>...</td>\n",
              "      <td>-0.00943</td>\n",
              "      <td>0.79828</td>\n",
              "      <td>-0.13746</td>\n",
              "      <td>0.14127</td>\n",
              "      <td>-0.20601</td>\n",
              "      <td>0.50229</td>\n",
              "      <td>0.21942</td>\n",
              "      <td>0.21515</td>\n",
              "      <td>69.99000</td>\n",
              "      <td>0</td>\n",
              "    </tr>\n",
              "  </tbody>\n",
              "</table>\n",
              "<p>5 rows × 31 columns</p>\n",
              "</div>\n",
              "      <button class=\"colab-df-convert\" onclick=\"convertToInteractive('df-285a5d05-26b5-42b2-b12c-dec0ebe61d98')\"\n",
              "              title=\"Convert this dataframe to an interactive table.\"\n",
              "              style=\"display:none;\">\n",
              "        \n",
              "  <svg xmlns=\"http://www.w3.org/2000/svg\" height=\"24px\"viewBox=\"0 0 24 24\"\n",
              "       width=\"24px\">\n",
              "    <path d=\"M0 0h24v24H0V0z\" fill=\"none\"/>\n",
              "    <path d=\"M18.56 5.44l.94 2.06.94-2.06 2.06-.94-2.06-.94-.94-2.06-.94 2.06-2.06.94zm-11 1L8.5 8.5l.94-2.06 2.06-.94-2.06-.94L8.5 2.5l-.94 2.06-2.06.94zm10 10l.94 2.06.94-2.06 2.06-.94-2.06-.94-.94-2.06-.94 2.06-2.06.94z\"/><path d=\"M17.41 7.96l-1.37-1.37c-.4-.4-.92-.59-1.43-.59-.52 0-1.04.2-1.43.59L10.3 9.45l-7.72 7.72c-.78.78-.78 2.05 0 2.83L4 21.41c.39.39.9.59 1.41.59.51 0 1.02-.2 1.41-.59l7.78-7.78 2.81-2.81c.8-.78.8-2.07 0-2.86zM5.41 20L4 18.59l7.72-7.72 1.47 1.35L5.41 20z\"/>\n",
              "  </svg>\n",
              "      </button>\n",
              "      \n",
              "  <style>\n",
              "    .colab-df-container {\n",
              "      display:flex;\n",
              "      flex-wrap:wrap;\n",
              "      gap: 12px;\n",
              "    }\n",
              "\n",
              "    .colab-df-convert {\n",
              "      background-color: #E8F0FE;\n",
              "      border: none;\n",
              "      border-radius: 50%;\n",
              "      cursor: pointer;\n",
              "      display: none;\n",
              "      fill: #1967D2;\n",
              "      height: 32px;\n",
              "      padding: 0 0 0 0;\n",
              "      width: 32px;\n",
              "    }\n",
              "\n",
              "    .colab-df-convert:hover {\n",
              "      background-color: #E2EBFA;\n",
              "      box-shadow: 0px 1px 2px rgba(60, 64, 67, 0.3), 0px 1px 3px 1px rgba(60, 64, 67, 0.15);\n",
              "      fill: #174EA6;\n",
              "    }\n",
              "\n",
              "    [theme=dark] .colab-df-convert {\n",
              "      background-color: #3B4455;\n",
              "      fill: #D2E3FC;\n",
              "    }\n",
              "\n",
              "    [theme=dark] .colab-df-convert:hover {\n",
              "      background-color: #434B5C;\n",
              "      box-shadow: 0px 1px 3px 1px rgba(0, 0, 0, 0.15);\n",
              "      filter: drop-shadow(0px 1px 2px rgba(0, 0, 0, 0.3));\n",
              "      fill: #FFFFFF;\n",
              "    }\n",
              "  </style>\n",
              "\n",
              "      <script>\n",
              "        const buttonEl =\n",
              "          document.querySelector('#df-285a5d05-26b5-42b2-b12c-dec0ebe61d98 button.colab-df-convert');\n",
              "        buttonEl.style.display =\n",
              "          google.colab.kernel.accessAllowed ? 'block' : 'none';\n",
              "\n",
              "        async function convertToInteractive(key) {\n",
              "          const element = document.querySelector('#df-285a5d05-26b5-42b2-b12c-dec0ebe61d98');\n",
              "          const dataTable =\n",
              "            await google.colab.kernel.invokeFunction('convertToInteractive',\n",
              "                                                     [key], {});\n",
              "          if (!dataTable) return;\n",
              "\n",
              "          const docLinkHtml = 'Like what you see? Visit the ' +\n",
              "            '<a target=\"_blank\" href=https://colab.research.google.com/notebooks/data_table.ipynb>data table notebook</a>'\n",
              "            + ' to learn more about interactive tables.';\n",
              "          element.innerHTML = '';\n",
              "          dataTable['output_type'] = 'display_data';\n",
              "          await google.colab.output.renderOutput(dataTable, element);\n",
              "          const docLink = document.createElement('div');\n",
              "          docLink.innerHTML = docLinkHtml;\n",
              "          element.appendChild(docLink);\n",
              "        }\n",
              "      </script>\n",
              "    </div>\n",
              "  </div>\n",
              "  "
            ]
          },
          "metadata": {},
          "execution_count": 38
        }
      ]
    },
    {
      "cell_type": "code",
      "source": [
        "nRow, nCol = df.shape\n",
        "print(f'Nosso dataset possui {nRow} linhas e {nCol} colunas')\n"
      ],
      "metadata": {
        "colab": {
          "base_uri": "https://localhost:8080/"
        },
        "id": "F2vsRd5FC6JB",
        "outputId": "52a4fc70-7bcd-46a3-8f66-0396f6ad839a"
      },
      "execution_count": 39,
      "outputs": [
        {
          "output_type": "stream",
          "name": "stdout",
          "text": [
            "Nosso dataset possui 284807 linhas e 31 colunas\n"
          ]
        }
      ]
    },
    {
      "cell_type": "code",
      "source": [
        "df.info() "
      ],
      "metadata": {
        "colab": {
          "base_uri": "https://localhost:8080/"
        },
        "id": "HIe0soR5eT1U",
        "outputId": "30d683b6-4e01-48b0-c8dc-7286ae079b10"
      },
      "execution_count": 40,
      "outputs": [
        {
          "output_type": "stream",
          "name": "stdout",
          "text": [
            "<class 'pandas.core.frame.DataFrame'>\n",
            "RangeIndex: 284807 entries, 0 to 284806\n",
            "Data columns (total 31 columns):\n",
            " #   Column  Non-Null Count   Dtype  \n",
            "---  ------  --------------   -----  \n",
            " 0   Time    284807 non-null  float64\n",
            " 1   V1      284807 non-null  float64\n",
            " 2   V2      284807 non-null  float64\n",
            " 3   V3      284807 non-null  float64\n",
            " 4   V4      284807 non-null  float64\n",
            " 5   V5      284807 non-null  float64\n",
            " 6   V6      284807 non-null  float64\n",
            " 7   V7      284807 non-null  float64\n",
            " 8   V8      284807 non-null  float64\n",
            " 9   V9      284807 non-null  float64\n",
            " 10  V10     284807 non-null  float64\n",
            " 11  V11     284807 non-null  float64\n",
            " 12  V12     284807 non-null  float64\n",
            " 13  V13     284807 non-null  float64\n",
            " 14  V14     284807 non-null  float64\n",
            " 15  V15     284807 non-null  float64\n",
            " 16  V16     284807 non-null  float64\n",
            " 17  V17     284807 non-null  float64\n",
            " 18  V18     284807 non-null  float64\n",
            " 19  V19     284807 non-null  float64\n",
            " 20  V20     284807 non-null  float64\n",
            " 21  V21     284807 non-null  float64\n",
            " 22  V22     284807 non-null  float64\n",
            " 23  V23     284807 non-null  float64\n",
            " 24  V24     284807 non-null  float64\n",
            " 25  V25     284807 non-null  float64\n",
            " 26  V26     284807 non-null  float64\n",
            " 27  V27     284807 non-null  float64\n",
            " 28  V28     284807 non-null  float64\n",
            " 29  Amount  284807 non-null  float64\n",
            " 30  Class   284807 non-null  int64  \n",
            "dtypes: float64(30), int64(1)\n",
            "memory usage: 67.4 MB\n"
          ]
        }
      ]
    },
    {
      "cell_type": "code",
      "source": [
        "df.isnull().sum()"
      ],
      "metadata": {
        "colab": {
          "base_uri": "https://localhost:8080/"
        },
        "id": "n_YWrSbae3NG",
        "outputId": "f097f704-cf12-42a1-db6f-3ea164493c8b"
      },
      "execution_count": 41,
      "outputs": [
        {
          "output_type": "execute_result",
          "data": {
            "text/plain": [
              "Time      0\n",
              "V1        0\n",
              "V2        0\n",
              "V3        0\n",
              "V4        0\n",
              "V5        0\n",
              "V6        0\n",
              "V7        0\n",
              "V8        0\n",
              "V9        0\n",
              "V10       0\n",
              "V11       0\n",
              "V12       0\n",
              "V13       0\n",
              "V14       0\n",
              "V15       0\n",
              "V16       0\n",
              "V17       0\n",
              "V18       0\n",
              "V19       0\n",
              "V20       0\n",
              "V21       0\n",
              "V22       0\n",
              "V23       0\n",
              "V24       0\n",
              "V25       0\n",
              "V26       0\n",
              "V27       0\n",
              "V28       0\n",
              "Amount    0\n",
              "Class     0\n",
              "dtype: int64"
            ]
          },
          "metadata": {},
          "execution_count": 41
        }
      ]
    },
    {
      "cell_type": "code",
      "source": [
        "df.describe()"
      ],
      "metadata": {
        "colab": {
          "base_uri": "https://localhost:8080/",
          "height": 394
        },
        "id": "KQiXFglZfHQg",
        "outputId": "16213793-efe5-4541-d4fe-67c0eca7a9a8"
      },
      "execution_count": null,
      "outputs": [
        {
          "output_type": "execute_result",
          "data": {
            "text/plain": [
              "                Time            V1            V2            V3            V4  \\\n",
              "count  284807.000000  2.848070e+05  2.848070e+05  2.848070e+05  2.848070e+05   \n",
              "mean    94813.859575  1.168375e-15  3.416908e-16 -1.379537e-15  2.074095e-15   \n",
              "std     47488.145955  1.958696e+00  1.651309e+00  1.516255e+00  1.415869e+00   \n",
              "min         0.000000 -5.640751e+01 -7.271573e+01 -4.832559e+01 -5.683171e+00   \n",
              "25%     54201.500000 -9.203734e-01 -5.985499e-01 -8.903648e-01 -8.486401e-01   \n",
              "50%     84692.000000  1.810880e-02  6.548556e-02  1.798463e-01 -1.984653e-02   \n",
              "75%    139320.500000  1.315642e+00  8.037239e-01  1.027196e+00  7.433413e-01   \n",
              "max    172792.000000  2.454930e+00  2.205773e+01  9.382558e+00  1.687534e+01   \n",
              "\n",
              "                 V5            V6            V7            V8            V9  \\\n",
              "count  2.848070e+05  2.848070e+05  2.848070e+05  2.848070e+05  2.848070e+05   \n",
              "mean   9.604066e-16  1.487313e-15 -5.556467e-16  1.213481e-16 -2.406331e-15   \n",
              "std    1.380247e+00  1.332271e+00  1.237094e+00  1.194353e+00  1.098632e+00   \n",
              "min   -1.137433e+02 -2.616051e+01 -4.355724e+01 -7.321672e+01 -1.343407e+01   \n",
              "25%   -6.915971e-01 -7.682956e-01 -5.540759e-01 -2.086297e-01 -6.430976e-01   \n",
              "50%   -5.433583e-02 -2.741871e-01  4.010308e-02  2.235804e-02 -5.142873e-02   \n",
              "75%    6.119264e-01  3.985649e-01  5.704361e-01  3.273459e-01  5.971390e-01   \n",
              "max    3.480167e+01  7.330163e+01  1.205895e+02  2.000721e+01  1.559499e+01   \n",
              "\n",
              "       ...           V21           V22           V23           V24  \\\n",
              "count  ...  2.848070e+05  2.848070e+05  2.848070e+05  2.848070e+05   \n",
              "mean   ...  1.654067e-16 -3.568593e-16  2.578648e-16  4.473266e-15   \n",
              "std    ...  7.345240e-01  7.257016e-01  6.244603e-01  6.056471e-01   \n",
              "min    ... -3.483038e+01 -1.093314e+01 -4.480774e+01 -2.836627e+00   \n",
              "25%    ... -2.283949e-01 -5.423504e-01 -1.618463e-01 -3.545861e-01   \n",
              "50%    ... -2.945017e-02  6.781943e-03 -1.119293e-02  4.097606e-02   \n",
              "75%    ...  1.863772e-01  5.285536e-01  1.476421e-01  4.395266e-01   \n",
              "max    ...  2.720284e+01  1.050309e+01  2.252841e+01  4.584549e+00   \n",
              "\n",
              "                V25           V26           V27           V28         Amount  \\\n",
              "count  2.848070e+05  2.848070e+05  2.848070e+05  2.848070e+05  284807.000000   \n",
              "mean   5.340915e-16  1.683437e-15 -3.660091e-16 -1.227390e-16      88.349619   \n",
              "std    5.212781e-01  4.822270e-01  4.036325e-01  3.300833e-01     250.120109   \n",
              "min   -1.029540e+01 -2.604551e+00 -2.256568e+01 -1.543008e+01       0.000000   \n",
              "25%   -3.171451e-01 -3.269839e-01 -7.083953e-02 -5.295979e-02       5.600000   \n",
              "50%    1.659350e-02 -5.213911e-02  1.342146e-03  1.124383e-02      22.000000   \n",
              "75%    3.507156e-01  2.409522e-01  9.104512e-02  7.827995e-02      77.165000   \n",
              "max    7.519589e+00  3.517346e+00  3.161220e+01  3.384781e+01   25691.160000   \n",
              "\n",
              "               Class  \n",
              "count  284807.000000  \n",
              "mean        0.001727  \n",
              "std         0.041527  \n",
              "min         0.000000  \n",
              "25%         0.000000  \n",
              "50%         0.000000  \n",
              "75%         0.000000  \n",
              "max         1.000000  \n",
              "\n",
              "[8 rows x 31 columns]"
            ],
            "text/html": [
              "\n",
              "  <div id=\"df-fde84a33-13a4-408b-b29c-be9b2b2c7e09\">\n",
              "    <div class=\"colab-df-container\">\n",
              "      <div>\n",
              "<style scoped>\n",
              "    .dataframe tbody tr th:only-of-type {\n",
              "        vertical-align: middle;\n",
              "    }\n",
              "\n",
              "    .dataframe tbody tr th {\n",
              "        vertical-align: top;\n",
              "    }\n",
              "\n",
              "    .dataframe thead th {\n",
              "        text-align: right;\n",
              "    }\n",
              "</style>\n",
              "<table border=\"1\" class=\"dataframe\">\n",
              "  <thead>\n",
              "    <tr style=\"text-align: right;\">\n",
              "      <th></th>\n",
              "      <th>Time</th>\n",
              "      <th>V1</th>\n",
              "      <th>V2</th>\n",
              "      <th>V3</th>\n",
              "      <th>V4</th>\n",
              "      <th>V5</th>\n",
              "      <th>V6</th>\n",
              "      <th>V7</th>\n",
              "      <th>V8</th>\n",
              "      <th>V9</th>\n",
              "      <th>...</th>\n",
              "      <th>V21</th>\n",
              "      <th>V22</th>\n",
              "      <th>V23</th>\n",
              "      <th>V24</th>\n",
              "      <th>V25</th>\n",
              "      <th>V26</th>\n",
              "      <th>V27</th>\n",
              "      <th>V28</th>\n",
              "      <th>Amount</th>\n",
              "      <th>Class</th>\n",
              "    </tr>\n",
              "  </thead>\n",
              "  <tbody>\n",
              "    <tr>\n",
              "      <th>count</th>\n",
              "      <td>284807.000000</td>\n",
              "      <td>2.848070e+05</td>\n",
              "      <td>2.848070e+05</td>\n",
              "      <td>2.848070e+05</td>\n",
              "      <td>2.848070e+05</td>\n",
              "      <td>2.848070e+05</td>\n",
              "      <td>2.848070e+05</td>\n",
              "      <td>2.848070e+05</td>\n",
              "      <td>2.848070e+05</td>\n",
              "      <td>2.848070e+05</td>\n",
              "      <td>...</td>\n",
              "      <td>2.848070e+05</td>\n",
              "      <td>2.848070e+05</td>\n",
              "      <td>2.848070e+05</td>\n",
              "      <td>2.848070e+05</td>\n",
              "      <td>2.848070e+05</td>\n",
              "      <td>2.848070e+05</td>\n",
              "      <td>2.848070e+05</td>\n",
              "      <td>2.848070e+05</td>\n",
              "      <td>284807.000000</td>\n",
              "      <td>284807.000000</td>\n",
              "    </tr>\n",
              "    <tr>\n",
              "      <th>mean</th>\n",
              "      <td>94813.859575</td>\n",
              "      <td>1.168375e-15</td>\n",
              "      <td>3.416908e-16</td>\n",
              "      <td>-1.379537e-15</td>\n",
              "      <td>2.074095e-15</td>\n",
              "      <td>9.604066e-16</td>\n",
              "      <td>1.487313e-15</td>\n",
              "      <td>-5.556467e-16</td>\n",
              "      <td>1.213481e-16</td>\n",
              "      <td>-2.406331e-15</td>\n",
              "      <td>...</td>\n",
              "      <td>1.654067e-16</td>\n",
              "      <td>-3.568593e-16</td>\n",
              "      <td>2.578648e-16</td>\n",
              "      <td>4.473266e-15</td>\n",
              "      <td>5.340915e-16</td>\n",
              "      <td>1.683437e-15</td>\n",
              "      <td>-3.660091e-16</td>\n",
              "      <td>-1.227390e-16</td>\n",
              "      <td>88.349619</td>\n",
              "      <td>0.001727</td>\n",
              "    </tr>\n",
              "    <tr>\n",
              "      <th>std</th>\n",
              "      <td>47488.145955</td>\n",
              "      <td>1.958696e+00</td>\n",
              "      <td>1.651309e+00</td>\n",
              "      <td>1.516255e+00</td>\n",
              "      <td>1.415869e+00</td>\n",
              "      <td>1.380247e+00</td>\n",
              "      <td>1.332271e+00</td>\n",
              "      <td>1.237094e+00</td>\n",
              "      <td>1.194353e+00</td>\n",
              "      <td>1.098632e+00</td>\n",
              "      <td>...</td>\n",
              "      <td>7.345240e-01</td>\n",
              "      <td>7.257016e-01</td>\n",
              "      <td>6.244603e-01</td>\n",
              "      <td>6.056471e-01</td>\n",
              "      <td>5.212781e-01</td>\n",
              "      <td>4.822270e-01</td>\n",
              "      <td>4.036325e-01</td>\n",
              "      <td>3.300833e-01</td>\n",
              "      <td>250.120109</td>\n",
              "      <td>0.041527</td>\n",
              "    </tr>\n",
              "    <tr>\n",
              "      <th>min</th>\n",
              "      <td>0.000000</td>\n",
              "      <td>-5.640751e+01</td>\n",
              "      <td>-7.271573e+01</td>\n",
              "      <td>-4.832559e+01</td>\n",
              "      <td>-5.683171e+00</td>\n",
              "      <td>-1.137433e+02</td>\n",
              "      <td>-2.616051e+01</td>\n",
              "      <td>-4.355724e+01</td>\n",
              "      <td>-7.321672e+01</td>\n",
              "      <td>-1.343407e+01</td>\n",
              "      <td>...</td>\n",
              "      <td>-3.483038e+01</td>\n",
              "      <td>-1.093314e+01</td>\n",
              "      <td>-4.480774e+01</td>\n",
              "      <td>-2.836627e+00</td>\n",
              "      <td>-1.029540e+01</td>\n",
              "      <td>-2.604551e+00</td>\n",
              "      <td>-2.256568e+01</td>\n",
              "      <td>-1.543008e+01</td>\n",
              "      <td>0.000000</td>\n",
              "      <td>0.000000</td>\n",
              "    </tr>\n",
              "    <tr>\n",
              "      <th>25%</th>\n",
              "      <td>54201.500000</td>\n",
              "      <td>-9.203734e-01</td>\n",
              "      <td>-5.985499e-01</td>\n",
              "      <td>-8.903648e-01</td>\n",
              "      <td>-8.486401e-01</td>\n",
              "      <td>-6.915971e-01</td>\n",
              "      <td>-7.682956e-01</td>\n",
              "      <td>-5.540759e-01</td>\n",
              "      <td>-2.086297e-01</td>\n",
              "      <td>-6.430976e-01</td>\n",
              "      <td>...</td>\n",
              "      <td>-2.283949e-01</td>\n",
              "      <td>-5.423504e-01</td>\n",
              "      <td>-1.618463e-01</td>\n",
              "      <td>-3.545861e-01</td>\n",
              "      <td>-3.171451e-01</td>\n",
              "      <td>-3.269839e-01</td>\n",
              "      <td>-7.083953e-02</td>\n",
              "      <td>-5.295979e-02</td>\n",
              "      <td>5.600000</td>\n",
              "      <td>0.000000</td>\n",
              "    </tr>\n",
              "    <tr>\n",
              "      <th>50%</th>\n",
              "      <td>84692.000000</td>\n",
              "      <td>1.810880e-02</td>\n",
              "      <td>6.548556e-02</td>\n",
              "      <td>1.798463e-01</td>\n",
              "      <td>-1.984653e-02</td>\n",
              "      <td>-5.433583e-02</td>\n",
              "      <td>-2.741871e-01</td>\n",
              "      <td>4.010308e-02</td>\n",
              "      <td>2.235804e-02</td>\n",
              "      <td>-5.142873e-02</td>\n",
              "      <td>...</td>\n",
              "      <td>-2.945017e-02</td>\n",
              "      <td>6.781943e-03</td>\n",
              "      <td>-1.119293e-02</td>\n",
              "      <td>4.097606e-02</td>\n",
              "      <td>1.659350e-02</td>\n",
              "      <td>-5.213911e-02</td>\n",
              "      <td>1.342146e-03</td>\n",
              "      <td>1.124383e-02</td>\n",
              "      <td>22.000000</td>\n",
              "      <td>0.000000</td>\n",
              "    </tr>\n",
              "    <tr>\n",
              "      <th>75%</th>\n",
              "      <td>139320.500000</td>\n",
              "      <td>1.315642e+00</td>\n",
              "      <td>8.037239e-01</td>\n",
              "      <td>1.027196e+00</td>\n",
              "      <td>7.433413e-01</td>\n",
              "      <td>6.119264e-01</td>\n",
              "      <td>3.985649e-01</td>\n",
              "      <td>5.704361e-01</td>\n",
              "      <td>3.273459e-01</td>\n",
              "      <td>5.971390e-01</td>\n",
              "      <td>...</td>\n",
              "      <td>1.863772e-01</td>\n",
              "      <td>5.285536e-01</td>\n",
              "      <td>1.476421e-01</td>\n",
              "      <td>4.395266e-01</td>\n",
              "      <td>3.507156e-01</td>\n",
              "      <td>2.409522e-01</td>\n",
              "      <td>9.104512e-02</td>\n",
              "      <td>7.827995e-02</td>\n",
              "      <td>77.165000</td>\n",
              "      <td>0.000000</td>\n",
              "    </tr>\n",
              "    <tr>\n",
              "      <th>max</th>\n",
              "      <td>172792.000000</td>\n",
              "      <td>2.454930e+00</td>\n",
              "      <td>2.205773e+01</td>\n",
              "      <td>9.382558e+00</td>\n",
              "      <td>1.687534e+01</td>\n",
              "      <td>3.480167e+01</td>\n",
              "      <td>7.330163e+01</td>\n",
              "      <td>1.205895e+02</td>\n",
              "      <td>2.000721e+01</td>\n",
              "      <td>1.559499e+01</td>\n",
              "      <td>...</td>\n",
              "      <td>2.720284e+01</td>\n",
              "      <td>1.050309e+01</td>\n",
              "      <td>2.252841e+01</td>\n",
              "      <td>4.584549e+00</td>\n",
              "      <td>7.519589e+00</td>\n",
              "      <td>3.517346e+00</td>\n",
              "      <td>3.161220e+01</td>\n",
              "      <td>3.384781e+01</td>\n",
              "      <td>25691.160000</td>\n",
              "      <td>1.000000</td>\n",
              "    </tr>\n",
              "  </tbody>\n",
              "</table>\n",
              "<p>8 rows × 31 columns</p>\n",
              "</div>\n",
              "      <button class=\"colab-df-convert\" onclick=\"convertToInteractive('df-fde84a33-13a4-408b-b29c-be9b2b2c7e09')\"\n",
              "              title=\"Convert this dataframe to an interactive table.\"\n",
              "              style=\"display:none;\">\n",
              "        \n",
              "  <svg xmlns=\"http://www.w3.org/2000/svg\" height=\"24px\"viewBox=\"0 0 24 24\"\n",
              "       width=\"24px\">\n",
              "    <path d=\"M0 0h24v24H0V0z\" fill=\"none\"/>\n",
              "    <path d=\"M18.56 5.44l.94 2.06.94-2.06 2.06-.94-2.06-.94-.94-2.06-.94 2.06-2.06.94zm-11 1L8.5 8.5l.94-2.06 2.06-.94-2.06-.94L8.5 2.5l-.94 2.06-2.06.94zm10 10l.94 2.06.94-2.06 2.06-.94-2.06-.94-.94-2.06-.94 2.06-2.06.94z\"/><path d=\"M17.41 7.96l-1.37-1.37c-.4-.4-.92-.59-1.43-.59-.52 0-1.04.2-1.43.59L10.3 9.45l-7.72 7.72c-.78.78-.78 2.05 0 2.83L4 21.41c.39.39.9.59 1.41.59.51 0 1.02-.2 1.41-.59l7.78-7.78 2.81-2.81c.8-.78.8-2.07 0-2.86zM5.41 20L4 18.59l7.72-7.72 1.47 1.35L5.41 20z\"/>\n",
              "  </svg>\n",
              "      </button>\n",
              "      \n",
              "  <style>\n",
              "    .colab-df-container {\n",
              "      display:flex;\n",
              "      flex-wrap:wrap;\n",
              "      gap: 12px;\n",
              "    }\n",
              "\n",
              "    .colab-df-convert {\n",
              "      background-color: #E8F0FE;\n",
              "      border: none;\n",
              "      border-radius: 50%;\n",
              "      cursor: pointer;\n",
              "      display: none;\n",
              "      fill: #1967D2;\n",
              "      height: 32px;\n",
              "      padding: 0 0 0 0;\n",
              "      width: 32px;\n",
              "    }\n",
              "\n",
              "    .colab-df-convert:hover {\n",
              "      background-color: #E2EBFA;\n",
              "      box-shadow: 0px 1px 2px rgba(60, 64, 67, 0.3), 0px 1px 3px 1px rgba(60, 64, 67, 0.15);\n",
              "      fill: #174EA6;\n",
              "    }\n",
              "\n",
              "    [theme=dark] .colab-df-convert {\n",
              "      background-color: #3B4455;\n",
              "      fill: #D2E3FC;\n",
              "    }\n",
              "\n",
              "    [theme=dark] .colab-df-convert:hover {\n",
              "      background-color: #434B5C;\n",
              "      box-shadow: 0px 1px 3px 1px rgba(0, 0, 0, 0.15);\n",
              "      filter: drop-shadow(0px 1px 2px rgba(0, 0, 0, 0.3));\n",
              "      fill: #FFFFFF;\n",
              "    }\n",
              "  </style>\n",
              "\n",
              "      <script>\n",
              "        const buttonEl =\n",
              "          document.querySelector('#df-fde84a33-13a4-408b-b29c-be9b2b2c7e09 button.colab-df-convert');\n",
              "        buttonEl.style.display =\n",
              "          google.colab.kernel.accessAllowed ? 'block' : 'none';\n",
              "\n",
              "        async function convertToInteractive(key) {\n",
              "          const element = document.querySelector('#df-fde84a33-13a4-408b-b29c-be9b2b2c7e09');\n",
              "          const dataTable =\n",
              "            await google.colab.kernel.invokeFunction('convertToInteractive',\n",
              "                                                     [key], {});\n",
              "          if (!dataTable) return;\n",
              "\n",
              "          const docLinkHtml = 'Like what you see? Visit the ' +\n",
              "            '<a target=\"_blank\" href=https://colab.research.google.com/notebooks/data_table.ipynb>data table notebook</a>'\n",
              "            + ' to learn more about interactive tables.';\n",
              "          element.innerHTML = '';\n",
              "          dataTable['output_type'] = 'display_data';\n",
              "          await google.colab.output.renderOutput(dataTable, element);\n",
              "          const docLink = document.createElement('div');\n",
              "          docLink.innerHTML = docLinkHtml;\n",
              "          element.appendChild(docLink);\n",
              "        }\n",
              "      </script>\n",
              "    </div>\n",
              "  </div>\n",
              "  "
            ]
          },
          "metadata": {},
          "execution_count": 138
        }
      ]
    },
    {
      "cell_type": "code",
      "source": [
        "df.duplicated().sum()"
      ],
      "metadata": {
        "colab": {
          "base_uri": "https://localhost:8080/"
        },
        "id": "DwMV-Ko4gA24",
        "outputId": "ee1b7689-579d-4bd5-88a3-0a7ac16f3c2e"
      },
      "execution_count": null,
      "outputs": [
        {
          "output_type": "execute_result",
          "data": {
            "text/plain": [
              "1081"
            ]
          },
          "metadata": {},
          "execution_count": 139
        }
      ]
    },
    {
      "cell_type": "code",
      "source": [
        "df = df.drop_duplicates()"
      ],
      "metadata": {
        "id": "Lim5kV5CgNjY"
      },
      "execution_count": null,
      "outputs": []
    },
    {
      "cell_type": "code",
      "source": [
        "lista=[\"Not Fraud\",\"Frauds\"]\n",
        "fraud_or_not = df[\"Class\"].value_counts().tolist()\n",
        "values = [fraud_or_not[0], fraud_or_not[1]]\n",
        "fig = px.pie(values=df['Class'].value_counts(), names=lista , width=800, height=400, color_discrete_sequence=[\"skyblue\",\"black\"]\n",
        "             ,title=\"Porcentagem entre Fraudes & Transações genuínas\")\n",
        "fig.show()"
      ],
      "metadata": {
        "colab": {
          "base_uri": "https://localhost:8080/",
          "height": 417
        },
        "id": "G60VA8BUiPmX",
        "outputId": "3904ce2f-5ce5-40d9-d8da-3f838840c843"
      },
      "execution_count": null,
      "outputs": [
        {
          "output_type": "display_data",
          "data": {
            "text/html": [
              "<html>\n",
              "<head><meta charset=\"utf-8\" /></head>\n",
              "<body>\n",
              "    <div>            <script src=\"https://cdnjs.cloudflare.com/ajax/libs/mathjax/2.7.5/MathJax.js?config=TeX-AMS-MML_SVG\"></script><script type=\"text/javascript\">if (window.MathJax) {MathJax.Hub.Config({SVG: {font: \"STIX-Web\"}});}</script>                <script type=\"text/javascript\">window.PlotlyConfig = {MathJaxConfig: 'local'};</script>\n",
              "        <script src=\"https://cdn.plot.ly/plotly-2.8.3.min.js\"></script>                <div id=\"f85dc96a-d669-48e6-91af-73581a9973ed\" class=\"plotly-graph-div\" style=\"height:400px; width:800px;\"></div>            <script type=\"text/javascript\">                                    window.PLOTLYENV=window.PLOTLYENV || {};                                    if (document.getElementById(\"f85dc96a-d669-48e6-91af-73581a9973ed\")) {                    Plotly.newPlot(                        \"f85dc96a-d669-48e6-91af-73581a9973ed\",                        [{\"domain\":{\"x\":[0.0,1.0],\"y\":[0.0,1.0]},\"hovertemplate\":\"label=%{label}<br>value=%{value}<extra></extra>\",\"labels\":[\"Not Fraud\",\"Frauds\"],\"legendgroup\":\"\",\"name\":\"\",\"showlegend\":true,\"values\":[283253,473],\"type\":\"pie\"}],                        {\"template\":{\"data\":{\"bar\":[{\"error_x\":{\"color\":\"#2a3f5f\"},\"error_y\":{\"color\":\"#2a3f5f\"},\"marker\":{\"line\":{\"color\":\"#E5ECF6\",\"width\":0.5},\"pattern\":{\"fillmode\":\"overlay\",\"size\":10,\"solidity\":0.2}},\"type\":\"bar\"}],\"barpolar\":[{\"marker\":{\"line\":{\"color\":\"#E5ECF6\",\"width\":0.5},\"pattern\":{\"fillmode\":\"overlay\",\"size\":10,\"solidity\":0.2}},\"type\":\"barpolar\"}],\"carpet\":[{\"aaxis\":{\"endlinecolor\":\"#2a3f5f\",\"gridcolor\":\"white\",\"linecolor\":\"white\",\"minorgridcolor\":\"white\",\"startlinecolor\":\"#2a3f5f\"},\"baxis\":{\"endlinecolor\":\"#2a3f5f\",\"gridcolor\":\"white\",\"linecolor\":\"white\",\"minorgridcolor\":\"white\",\"startlinecolor\":\"#2a3f5f\"},\"type\":\"carpet\"}],\"choropleth\":[{\"colorbar\":{\"outlinewidth\":0,\"ticks\":\"\"},\"type\":\"choropleth\"}],\"contour\":[{\"colorbar\":{\"outlinewidth\":0,\"ticks\":\"\"},\"colorscale\":[[0.0,\"#0d0887\"],[0.1111111111111111,\"#46039f\"],[0.2222222222222222,\"#7201a8\"],[0.3333333333333333,\"#9c179e\"],[0.4444444444444444,\"#bd3786\"],[0.5555555555555556,\"#d8576b\"],[0.6666666666666666,\"#ed7953\"],[0.7777777777777778,\"#fb9f3a\"],[0.8888888888888888,\"#fdca26\"],[1.0,\"#f0f921\"]],\"type\":\"contour\"}],\"contourcarpet\":[{\"colorbar\":{\"outlinewidth\":0,\"ticks\":\"\"},\"type\":\"contourcarpet\"}],\"heatmap\":[{\"colorbar\":{\"outlinewidth\":0,\"ticks\":\"\"},\"colorscale\":[[0.0,\"#0d0887\"],[0.1111111111111111,\"#46039f\"],[0.2222222222222222,\"#7201a8\"],[0.3333333333333333,\"#9c179e\"],[0.4444444444444444,\"#bd3786\"],[0.5555555555555556,\"#d8576b\"],[0.6666666666666666,\"#ed7953\"],[0.7777777777777778,\"#fb9f3a\"],[0.8888888888888888,\"#fdca26\"],[1.0,\"#f0f921\"]],\"type\":\"heatmap\"}],\"heatmapgl\":[{\"colorbar\":{\"outlinewidth\":0,\"ticks\":\"\"},\"colorscale\":[[0.0,\"#0d0887\"],[0.1111111111111111,\"#46039f\"],[0.2222222222222222,\"#7201a8\"],[0.3333333333333333,\"#9c179e\"],[0.4444444444444444,\"#bd3786\"],[0.5555555555555556,\"#d8576b\"],[0.6666666666666666,\"#ed7953\"],[0.7777777777777778,\"#fb9f3a\"],[0.8888888888888888,\"#fdca26\"],[1.0,\"#f0f921\"]],\"type\":\"heatmapgl\"}],\"histogram\":[{\"marker\":{\"pattern\":{\"fillmode\":\"overlay\",\"size\":10,\"solidity\":0.2}},\"type\":\"histogram\"}],\"histogram2d\":[{\"colorbar\":{\"outlinewidth\":0,\"ticks\":\"\"},\"colorscale\":[[0.0,\"#0d0887\"],[0.1111111111111111,\"#46039f\"],[0.2222222222222222,\"#7201a8\"],[0.3333333333333333,\"#9c179e\"],[0.4444444444444444,\"#bd3786\"],[0.5555555555555556,\"#d8576b\"],[0.6666666666666666,\"#ed7953\"],[0.7777777777777778,\"#fb9f3a\"],[0.8888888888888888,\"#fdca26\"],[1.0,\"#f0f921\"]],\"type\":\"histogram2d\"}],\"histogram2dcontour\":[{\"colorbar\":{\"outlinewidth\":0,\"ticks\":\"\"},\"colorscale\":[[0.0,\"#0d0887\"],[0.1111111111111111,\"#46039f\"],[0.2222222222222222,\"#7201a8\"],[0.3333333333333333,\"#9c179e\"],[0.4444444444444444,\"#bd3786\"],[0.5555555555555556,\"#d8576b\"],[0.6666666666666666,\"#ed7953\"],[0.7777777777777778,\"#fb9f3a\"],[0.8888888888888888,\"#fdca26\"],[1.0,\"#f0f921\"]],\"type\":\"histogram2dcontour\"}],\"mesh3d\":[{\"colorbar\":{\"outlinewidth\":0,\"ticks\":\"\"},\"type\":\"mesh3d\"}],\"parcoords\":[{\"line\":{\"colorbar\":{\"outlinewidth\":0,\"ticks\":\"\"}},\"type\":\"parcoords\"}],\"pie\":[{\"automargin\":true,\"type\":\"pie\"}],\"scatter\":[{\"marker\":{\"colorbar\":{\"outlinewidth\":0,\"ticks\":\"\"}},\"type\":\"scatter\"}],\"scatter3d\":[{\"line\":{\"colorbar\":{\"outlinewidth\":0,\"ticks\":\"\"}},\"marker\":{\"colorbar\":{\"outlinewidth\":0,\"ticks\":\"\"}},\"type\":\"scatter3d\"}],\"scattercarpet\":[{\"marker\":{\"colorbar\":{\"outlinewidth\":0,\"ticks\":\"\"}},\"type\":\"scattercarpet\"}],\"scattergeo\":[{\"marker\":{\"colorbar\":{\"outlinewidth\":0,\"ticks\":\"\"}},\"type\":\"scattergeo\"}],\"scattergl\":[{\"marker\":{\"colorbar\":{\"outlinewidth\":0,\"ticks\":\"\"}},\"type\":\"scattergl\"}],\"scattermapbox\":[{\"marker\":{\"colorbar\":{\"outlinewidth\":0,\"ticks\":\"\"}},\"type\":\"scattermapbox\"}],\"scatterpolar\":[{\"marker\":{\"colorbar\":{\"outlinewidth\":0,\"ticks\":\"\"}},\"type\":\"scatterpolar\"}],\"scatterpolargl\":[{\"marker\":{\"colorbar\":{\"outlinewidth\":0,\"ticks\":\"\"}},\"type\":\"scatterpolargl\"}],\"scatterternary\":[{\"marker\":{\"colorbar\":{\"outlinewidth\":0,\"ticks\":\"\"}},\"type\":\"scatterternary\"}],\"surface\":[{\"colorbar\":{\"outlinewidth\":0,\"ticks\":\"\"},\"colorscale\":[[0.0,\"#0d0887\"],[0.1111111111111111,\"#46039f\"],[0.2222222222222222,\"#7201a8\"],[0.3333333333333333,\"#9c179e\"],[0.4444444444444444,\"#bd3786\"],[0.5555555555555556,\"#d8576b\"],[0.6666666666666666,\"#ed7953\"],[0.7777777777777778,\"#fb9f3a\"],[0.8888888888888888,\"#fdca26\"],[1.0,\"#f0f921\"]],\"type\":\"surface\"}],\"table\":[{\"cells\":{\"fill\":{\"color\":\"#EBF0F8\"},\"line\":{\"color\":\"white\"}},\"header\":{\"fill\":{\"color\":\"#C8D4E3\"},\"line\":{\"color\":\"white\"}},\"type\":\"table\"}]},\"layout\":{\"annotationdefaults\":{\"arrowcolor\":\"#2a3f5f\",\"arrowhead\":0,\"arrowwidth\":1},\"autotypenumbers\":\"strict\",\"coloraxis\":{\"colorbar\":{\"outlinewidth\":0,\"ticks\":\"\"}},\"colorscale\":{\"diverging\":[[0,\"#8e0152\"],[0.1,\"#c51b7d\"],[0.2,\"#de77ae\"],[0.3,\"#f1b6da\"],[0.4,\"#fde0ef\"],[0.5,\"#f7f7f7\"],[0.6,\"#e6f5d0\"],[0.7,\"#b8e186\"],[0.8,\"#7fbc41\"],[0.9,\"#4d9221\"],[1,\"#276419\"]],\"sequential\":[[0.0,\"#0d0887\"],[0.1111111111111111,\"#46039f\"],[0.2222222222222222,\"#7201a8\"],[0.3333333333333333,\"#9c179e\"],[0.4444444444444444,\"#bd3786\"],[0.5555555555555556,\"#d8576b\"],[0.6666666666666666,\"#ed7953\"],[0.7777777777777778,\"#fb9f3a\"],[0.8888888888888888,\"#fdca26\"],[1.0,\"#f0f921\"]],\"sequentialminus\":[[0.0,\"#0d0887\"],[0.1111111111111111,\"#46039f\"],[0.2222222222222222,\"#7201a8\"],[0.3333333333333333,\"#9c179e\"],[0.4444444444444444,\"#bd3786\"],[0.5555555555555556,\"#d8576b\"],[0.6666666666666666,\"#ed7953\"],[0.7777777777777778,\"#fb9f3a\"],[0.8888888888888888,\"#fdca26\"],[1.0,\"#f0f921\"]]},\"colorway\":[\"#636efa\",\"#EF553B\",\"#00cc96\",\"#ab63fa\",\"#FFA15A\",\"#19d3f3\",\"#FF6692\",\"#B6E880\",\"#FF97FF\",\"#FECB52\"],\"font\":{\"color\":\"#2a3f5f\"},\"geo\":{\"bgcolor\":\"white\",\"lakecolor\":\"white\",\"landcolor\":\"#E5ECF6\",\"showlakes\":true,\"showland\":true,\"subunitcolor\":\"white\"},\"hoverlabel\":{\"align\":\"left\"},\"hovermode\":\"closest\",\"mapbox\":{\"style\":\"light\"},\"paper_bgcolor\":\"white\",\"plot_bgcolor\":\"#E5ECF6\",\"polar\":{\"angularaxis\":{\"gridcolor\":\"white\",\"linecolor\":\"white\",\"ticks\":\"\"},\"bgcolor\":\"#E5ECF6\",\"radialaxis\":{\"gridcolor\":\"white\",\"linecolor\":\"white\",\"ticks\":\"\"}},\"scene\":{\"xaxis\":{\"backgroundcolor\":\"#E5ECF6\",\"gridcolor\":\"white\",\"gridwidth\":2,\"linecolor\":\"white\",\"showbackground\":true,\"ticks\":\"\",\"zerolinecolor\":\"white\"},\"yaxis\":{\"backgroundcolor\":\"#E5ECF6\",\"gridcolor\":\"white\",\"gridwidth\":2,\"linecolor\":\"white\",\"showbackground\":true,\"ticks\":\"\",\"zerolinecolor\":\"white\"},\"zaxis\":{\"backgroundcolor\":\"#E5ECF6\",\"gridcolor\":\"white\",\"gridwidth\":2,\"linecolor\":\"white\",\"showbackground\":true,\"ticks\":\"\",\"zerolinecolor\":\"white\"}},\"shapedefaults\":{\"line\":{\"color\":\"#2a3f5f\"}},\"ternary\":{\"aaxis\":{\"gridcolor\":\"white\",\"linecolor\":\"white\",\"ticks\":\"\"},\"baxis\":{\"gridcolor\":\"white\",\"linecolor\":\"white\",\"ticks\":\"\"},\"bgcolor\":\"#E5ECF6\",\"caxis\":{\"gridcolor\":\"white\",\"linecolor\":\"white\",\"ticks\":\"\"}},\"title\":{\"x\":0.05},\"xaxis\":{\"automargin\":true,\"gridcolor\":\"white\",\"linecolor\":\"white\",\"ticks\":\"\",\"title\":{\"standoff\":15},\"zerolinecolor\":\"white\",\"zerolinewidth\":2},\"yaxis\":{\"automargin\":true,\"gridcolor\":\"white\",\"linecolor\":\"white\",\"ticks\":\"\",\"title\":{\"standoff\":15},\"zerolinecolor\":\"white\",\"zerolinewidth\":2}}},\"legend\":{\"tracegroupgap\":0},\"title\":{\"text\":\"Porcentagem entre Fraudes & Transa\\u00e7\\u00f5es genu\\u00ednas\"},\"piecolorway\":[\"skyblue\",\"black\"],\"height\":400,\"width\":800},                        {\"responsive\": true}                    ).then(function(){\n",
              "                            \n",
              "var gd = document.getElementById('f85dc96a-d669-48e6-91af-73581a9973ed');\n",
              "var x = new MutationObserver(function (mutations, observer) {{\n",
              "        var display = window.getComputedStyle(gd).display;\n",
              "        if (!display || display === 'none') {{\n",
              "            console.log([gd, 'removed!']);\n",
              "            Plotly.purge(gd);\n",
              "            observer.disconnect();\n",
              "        }}\n",
              "}});\n",
              "\n",
              "// Listen for the removal of the full notebook cells\n",
              "var notebookContainer = gd.closest('#notebook-container');\n",
              "if (notebookContainer) {{\n",
              "    x.observe(notebookContainer, {childList: true});\n",
              "}}\n",
              "\n",
              "// Listen for the clearing of the current output cell\n",
              "var outputEl = gd.closest('.output');\n",
              "if (outputEl) {{\n",
              "    x.observe(outputEl, {childList: true});\n",
              "}}\n",
              "\n",
              "                        })                };                            </script>        </div>\n",
              "</body>\n",
              "</html>"
            ]
          },
          "metadata": {}
        }
      ]
    },
    {
      "cell_type": "code",
      "source": [
        "corr=df.corr()\n",
        "mask = np.zeros_like(corr, dtype=np.bool)\n",
        "mask[np.triu_indices_from(mask)] = True\n",
        "f, ax = plt.subplots(figsize=(11, 9))\n",
        "cmap = sns.diverging_palette(220, 10, as_cmap=True)\n",
        "sns.heatmap(corr, mask=mask, cmap=cmap, vmax=.5, center=0, linewidths=.5, cbar_kws={\"shrink\": .5})"
      ],
      "metadata": {
        "colab": {
          "base_uri": "https://localhost:8080/",
          "height": 583
        },
        "id": "IEbnqu4UkK0H",
        "outputId": "6e1ac88b-5930-4b49-8163-78c28f6f0f16"
      },
      "execution_count": null,
      "outputs": [
        {
          "output_type": "execute_result",
          "data": {
            "text/plain": [
              "<matplotlib.axes._subplots.AxesSubplot at 0x7fb41b239160>"
            ]
          },
          "metadata": {},
          "execution_count": 142
        },
        {
          "output_type": "display_data",
          "data": {
            "text/plain": [
              "<Figure size 792x648 with 2 Axes>"
            ],
            "image/png": "[encoded data removed]"
          },
          "metadata": {
            "needs_background": "light"
          }
        }
      ]
    },
    {
      "cell_type": "markdown",
      "source": [
        "As variáveis 12,14 e 17 são as que possuem maiores correlações com a nossa variável de interesse preditivo, a Class, que indica se determinada compra é fraudulenta ou não."
      ],
      "metadata": {
        "id": "gnGs5aYUlitM"
      }
    },
    {
      "cell_type": "code",
      "source": [
        "plt.figure(figsize=(6,4))\n",
        "sns.kdeplot(data=df[df['Class'] == 0]['V17'], label=\"Normal\", shade=True)\n",
        "sns.kdeplot(data=df[df['Class'] == 1]['V17'], label=\"Fraud\", shade=True)\n",
        "plt.legend()\n",
        "plt.show()"
      ],
      "metadata": {
        "colab": {
          "base_uri": "https://localhost:8080/",
          "height": 279
        },
        "id": "koxEji_el1C1",
        "outputId": "537019f2-92ef-4647-b123-173229903ff5"
      },
      "execution_count": null,
      "outputs": [
        {
          "output_type": "display_data",
          "data": {
            "text/plain": [
              "<Figure size 432x288 with 1 Axes>"
            ],
            "image/png": "[encoded data removed]"
          },
          "metadata": {
            "needs_background": "light"
          }
        }
      ]
    },
    {
      "cell_type": "markdown",
      "source": [
        "O comportamento da variável V17 em relação a compras fraudulentas é irregular, o que demonstra certa imprecição em relação as compras com fraudes. Entretanto, a mesma se comporta com maior normalidade referente a compras genuínas "
      ],
      "metadata": {
        "id": "R9imsMGJmwom"
      }
    },
    {
      "cell_type": "code",
      "source": [
        "plt.figure(figsize=(6,4))\n",
        "sns.kdeplot(data=df[df['Class'] == 0]['V14'], label=\"Normal\", shade=True)\n",
        "sns.kdeplot(data=df[df['Class'] == 1]['V14'], label=\"Fraud\", shade=True)\n",
        "plt.legend()\n",
        "plt.show()"
      ],
      "metadata": {
        "colab": {
          "base_uri": "https://localhost:8080/",
          "height": 279
        },
        "id": "GW4nILgloAdq",
        "outputId": "da809963-c849-4674-9087-1861ce39eac8"
      },
      "execution_count": null,
      "outputs": [
        {
          "output_type": "display_data",
          "data": {
            "text/plain": [
              "<Figure size 432x288 with 1 Axes>"
            ],
            "image/png": "[encoded data removed]"
          },
          "metadata": {
            "needs_background": "light"
          }
        }
      ]
    },
    {
      "cell_type": "code",
      "source": [
        "plt.figure(figsize=(6,4))\n",
        "sns.kdeplot(data=df[df['Class'] == 0]['V12'], label=\"Normal\", shade=True)\n",
        "sns.kdeplot(data=df[df['Class'] == 1]['V12'], label=\"Fraud\", shade=True)\n",
        "plt.legend()\n",
        "plt.show()"
      ],
      "metadata": {
        "colab": {
          "base_uri": "https://localhost:8080/",
          "height": 279
        },
        "id": "x8-5GrF9oEhw",
        "outputId": "b4632d55-8b8f-4d25-d540-8397a6e1343a"
      },
      "execution_count": null,
      "outputs": [
        {
          "output_type": "display_data",
          "data": {
            "text/plain": [
              "<Figure size 432x288 with 1 Axes>"
            ],
            "image/png": "[encoded data removed]"
          },
          "metadata": {
            "needs_background": "light"
          }
        }
      ]
    },
    {
      "cell_type": "markdown",
      "source": [
        "Aqui notamos que as compras fraudulentas tendem a ter um comportamento mais imprevisível, o que pode ser aleatório, afinal estão tentando lucro financeiro em uma situação vantajosa para os mesmos através de irregularidade.As compras genuínas são executadas sem problemas e fins criminosos externos, então pode-se categorizar por descontos, bônus de milhas e promoções da bandeira do cartão, dentre outros. Como as fraudulentas são ilegais, talvez os fraudadores busquem alternativas distintas para burlar o sistema, o que faz com o que comportamento seja mais difícil de padronizar."
      ],
      "metadata": {
        "id": "cWUwUGSToXEb"
      }
    },
    {
      "cell_type": "code",
      "source": [
        "plt.figure(figsize=(8,4))\n",
        "Nofraud_df = df[df['Class']==0]\n",
        "plt.figure(figsize=(12,4), dpi=80)\n",
        "sns.distplot(Nofraud_df['Time']/60/60, bins=48)\n",
        "plt.xticks(np.arange(0,54,8))\n",
        "plt.xlim([0,48])\n",
        "plt.xlabel('Tempo das transações',fontsize=13)\n",
        "plt.ylabel('Número de transações',fontsize=13)\n",
        "plt.title('Número de transações genuínas por usuários durante o dia',fontsize=15)"
      ],
      "metadata": {
        "colab": {
          "base_uri": "https://localhost:8080/",
          "height": 366
        },
        "id": "0nNo96fmrAXW",
        "outputId": "b25b34b6-a04d-4531-a2c0-362fbd97e43e"
      },
      "execution_count": null,
      "outputs": [
        {
          "output_type": "execute_result",
          "data": {
            "text/plain": [
              "Text(0.5, 1.0, 'Número de transações genuínas por usuários durante o dia')"
            ]
          },
          "metadata": {},
          "execution_count": 146
        },
        {
          "output_type": "display_data",
          "data": {
            "text/plain": [
              "<Figure size 576x288 with 0 Axes>"
            ]
          },
          "metadata": {}
        },
        {
          "output_type": "display_data",
          "data": {
            "text/plain": [
              "<Figure size 960x320 with 1 Axes>"
            ],
            "image/png": "[encoded data removed]"
          },
          "metadata": {
            "needs_background": "light"
          }
        }
      ]
    },
    {
      "cell_type": "code",
      "source": [
        "plt.figure(figsize=(8,4))\n",
        "Fraud_df = df[df['Class']==1]\n",
        "plt.figure(figsize=(12,4), dpi=80)\n",
        "sns.distplot(Fraud_df['Time']/60/60, bins=48)\n",
        "plt.xticks(np.arange(0,54,8))\n",
        "plt.xlim([0,48])\n",
        "plt.xlabel('Tempo das transações',fontsize=13)\n",
        "plt.ylabel('Número de transações',fontsize=13)\n",
        "plt.title('Número de transações fraudulentas por usuários durante o dia',fontsize=15)"
      ],
      "metadata": {
        "colab": {
          "base_uri": "https://localhost:8080/",
          "height": 366
        },
        "id": "78Cyt4_Mp4BR",
        "outputId": "cf702a7a-010b-485d-abc4-777719f08a98"
      },
      "execution_count": null,
      "outputs": [
        {
          "output_type": "execute_result",
          "data": {
            "text/plain": [
              "Text(0.5, 1.0, 'Número de transações fraudulentas por usuários durante o dia')"
            ]
          },
          "metadata": {},
          "execution_count": 147
        },
        {
          "output_type": "display_data",
          "data": {
            "text/plain": [
              "<Figure size 576x288 with 0 Axes>"
            ]
          },
          "metadata": {}
        },
        {
          "output_type": "display_data",
          "data": {
            "text/plain": [
              "<Figure size 960x320 with 1 Axes>"
            ],
            "image/png": "[encoded data removed]"
          },
          "metadata": {
            "needs_background": "light"
          }
        }
      ]
    },
    {
      "cell_type": "markdown",
      "source": [
        "Notemos que em relação a horários o nosso diagnóstico muda. Nesse caso, as compras fraudulentas e genuínas apresentam comportamentos inversos. Enquanto as primeiras são realizadas em sua maioria no período de madrugada e início de manhã, as genuínas caem durante esse mesmo intervalo e voltam a crescer somente com o passar do dia (horário comercial)"
      ],
      "metadata": {
        "id": "pAsX4IeArfXv"
      }
    },
    {
      "cell_type": "code",
      "source": [
        "fraude = df[df['Class'] == 1]\n",
        "normal = df[df['Class'] == 0]\n",
        "\n",
        "print(\"Fraude - resumo estatístico\")\n",
        "print(fraude[\"Amount\"].describe())\n",
        "print(\"\\nNão Fraude - resumo estatístico\")\n",
        "print(normal[\"Amount\"].describe())"
      ],
      "metadata": {
        "colab": {
          "base_uri": "https://localhost:8080/"
        },
        "id": "0FhCKAErVDOZ",
        "outputId": "2c92ea62-4127-45a9-e416-4cd200d1e20b"
      },
      "execution_count": 35,
      "outputs": [
        {
          "output_type": "stream",
          "name": "stdout",
          "text": [
            "Fraude - resumo estatístico\n",
            "count       0\n",
            "unique      0\n",
            "top       NaN\n",
            "freq      NaN\n",
            "Name: Amount, dtype: object\n",
            "\n",
            "Não Fraude - resumo estatístico\n",
            "count       0\n",
            "unique      0\n",
            "top       NaN\n",
            "freq      NaN\n",
            "Name: Amount, dtype: object\n"
          ]
        }
      ]
    },
    {
      "cell_type": "markdown",
      "source": [
        "Percebemos que as transações fraudulentas possuem um ticket médio superior as das genuínas e um desvio padrão menor, que indica uma maior proximidade das travativas em relação a média"
      ],
      "metadata": {
        "id": "EA1AFxiQaOof"
      }
    },
    {
      "cell_type": "markdown",
      "source": [
        "## **Data Scaling**"
      ],
      "metadata": {
        "id": "opvVfgwOIZG_"
      }
    },
    {
      "cell_type": "code",
      "source": [
        "#Como os dados não estão na mesma casa vamos normalizar a variável amount\n",
        "std_scaler = StandardScaler()\n",
        "df['Scaled_Amount']=std_scaler.fit_transform(df['Amount'].values.reshape(-1,1))"
      ],
      "metadata": {
        "id": "vFHZuEVJIgkx"
      },
      "execution_count": 42,
      "outputs": []
    },
    {
      "cell_type": "code",
      "source": [
        "df.drop(['Amount','Time'],axis=1,inplace=True)\n"
      ],
      "metadata": {
        "id": "7IKZk-KUZmkN"
      },
      "execution_count": null,
      "outputs": []
    },
    {
      "cell_type": "code",
      "source": [
        "df.columns\n"
      ],
      "metadata": {
        "colab": {
          "base_uri": "https://localhost:8080/"
        },
        "id": "6NldtBzZcsvs",
        "outputId": "0887e407-c2f0-49b9-ab8b-f4549bba71f5"
      },
      "execution_count": 43,
      "outputs": [
        {
          "output_type": "execute_result",
          "data": {
            "text/plain": [
              "Index(['Time', 'V1', 'V2', 'V3', 'V4', 'V5', 'V6', 'V7', 'V8', 'V9', 'V10',\n",
              "       'V11', 'V12', 'V13', 'V14', 'V15', 'V16', 'V17', 'V18', 'V19', 'V20',\n",
              "       'V21', 'V22', 'V23', 'V24', 'V25', 'V26', 'V27', 'V28', 'Amount',\n",
              "       'Class', 'Scaled_Amount'],\n",
              "      dtype='object')"
            ]
          },
          "metadata": {},
          "execution_count": 43
        }
      ]
    },
    {
      "cell_type": "code",
      "source": [
        "#Fazendo redução de dimensionalidade de acordo com a correlação com a variável preditiva\n",
        "df = df[['V12','V14','V17','V16','V10','V3','V7','Scaled_Amount','Class']]\n"
      ],
      "metadata": {
        "id": "hHdCNd80aIBv"
      },
      "execution_count": 44,
      "outputs": []
    },
    {
      "cell_type": "code",
      "source": [
        "df.head()"
      ],
      "metadata": {
        "colab": {
          "base_uri": "https://localhost:8080/",
          "height": 206
        },
        "id": "IVeNg7-eR4j-",
        "outputId": "d3767cbe-1bea-40c3-8d69-8f7d0c0f5584"
      },
      "execution_count": null,
      "outputs": [
        {
          "output_type": "execute_result",
          "data": {
            "text/plain": [
              "        V12       V14       V17       V16       V10        V3        V7  \\\n",
              "0 -0.617801 -0.311169  0.207971 -0.470401  0.090794  2.536347  0.239599   \n",
              "1  1.065235 -0.143772 -0.114805  0.463917 -0.166974  0.166480 -0.078803   \n",
              "2  0.066084 -0.165946  1.109969 -2.890083  0.207643  1.773209  0.791461   \n",
              "3  0.178228 -0.287924 -0.684093 -1.059647 -0.054952  1.792993  0.237609   \n",
              "4  0.538196 -1.119670 -0.237033 -0.451449  0.753074  1.548718  0.592941   \n",
              "\n",
              "   Scaled_Amount  Class  \n",
              "0       0.244200      0  \n",
              "1      -0.342584      0  \n",
              "2       1.158900      0  \n",
              "3       0.139886      0  \n",
              "4      -0.073813      0  "
            ],
            "text/html": [
              "\n",
              "  <div id=\"df-0707a169-7874-4871-a7c8-10fd07c52555\">\n",
              "    <div class=\"colab-df-container\">\n",
              "      <div>\n",
              "<style scoped>\n",
              "    .dataframe tbody tr th:only-of-type {\n",
              "        vertical-align: middle;\n",
              "    }\n",
              "\n",
              "    .dataframe tbody tr th {\n",
              "        vertical-align: top;\n",
              "    }\n",
              "\n",
              "    .dataframe thead th {\n",
              "        text-align: right;\n",
              "    }\n",
              "</style>\n",
              "<table border=\"1\" class=\"dataframe\">\n",
              "  <thead>\n",
              "    <tr style=\"text-align: right;\">\n",
              "      <th></th>\n",
              "      <th>V12</th>\n",
              "      <th>V14</th>\n",
              "      <th>V17</th>\n",
              "      <th>V16</th>\n",
              "      <th>V10</th>\n",
              "      <th>V3</th>\n",
              "      <th>V7</th>\n",
              "      <th>Scaled_Amount</th>\n",
              "      <th>Class</th>\n",
              "    </tr>\n",
              "  </thead>\n",
              "  <tbody>\n",
              "    <tr>\n",
              "      <th>0</th>\n",
              "      <td>-0.617801</td>\n",
              "      <td>-0.311169</td>\n",
              "      <td>0.207971</td>\n",
              "      <td>-0.470401</td>\n",
              "      <td>0.090794</td>\n",
              "      <td>2.536347</td>\n",
              "      <td>0.239599</td>\n",
              "      <td>0.244200</td>\n",
              "      <td>0</td>\n",
              "    </tr>\n",
              "    <tr>\n",
              "      <th>1</th>\n",
              "      <td>1.065235</td>\n",
              "      <td>-0.143772</td>\n",
              "      <td>-0.114805</td>\n",
              "      <td>0.463917</td>\n",
              "      <td>-0.166974</td>\n",
              "      <td>0.166480</td>\n",
              "      <td>-0.078803</td>\n",
              "      <td>-0.342584</td>\n",
              "      <td>0</td>\n",
              "    </tr>\n",
              "    <tr>\n",
              "      <th>2</th>\n",
              "      <td>0.066084</td>\n",
              "      <td>-0.165946</td>\n",
              "      <td>1.109969</td>\n",
              "      <td>-2.890083</td>\n",
              "      <td>0.207643</td>\n",
              "      <td>1.773209</td>\n",
              "      <td>0.791461</td>\n",
              "      <td>1.158900</td>\n",
              "      <td>0</td>\n",
              "    </tr>\n",
              "    <tr>\n",
              "      <th>3</th>\n",
              "      <td>0.178228</td>\n",
              "      <td>-0.287924</td>\n",
              "      <td>-0.684093</td>\n",
              "      <td>-1.059647</td>\n",
              "      <td>-0.054952</td>\n",
              "      <td>1.792993</td>\n",
              "      <td>0.237609</td>\n",
              "      <td>0.139886</td>\n",
              "      <td>0</td>\n",
              "    </tr>\n",
              "    <tr>\n",
              "      <th>4</th>\n",
              "      <td>0.538196</td>\n",
              "      <td>-1.119670</td>\n",
              "      <td>-0.237033</td>\n",
              "      <td>-0.451449</td>\n",
              "      <td>0.753074</td>\n",
              "      <td>1.548718</td>\n",
              "      <td>0.592941</td>\n",
              "      <td>-0.073813</td>\n",
              "      <td>0</td>\n",
              "    </tr>\n",
              "  </tbody>\n",
              "</table>\n",
              "</div>\n",
              "      <button class=\"colab-df-convert\" onclick=\"convertToInteractive('df-0707a169-7874-4871-a7c8-10fd07c52555')\"\n",
              "              title=\"Convert this dataframe to an interactive table.\"\n",
              "              style=\"display:none;\">\n",
              "        \n",
              "  <svg xmlns=\"http://www.w3.org/2000/svg\" height=\"24px\"viewBox=\"0 0 24 24\"\n",
              "       width=\"24px\">\n",
              "    <path d=\"M0 0h24v24H0V0z\" fill=\"none\"/>\n",
              "    <path d=\"M18.56 5.44l.94 2.06.94-2.06 2.06-.94-2.06-.94-.94-2.06-.94 2.06-2.06.94zm-11 1L8.5 8.5l.94-2.06 2.06-.94-2.06-.94L8.5 2.5l-.94 2.06-2.06.94zm10 10l.94 2.06.94-2.06 2.06-.94-2.06-.94-.94-2.06-.94 2.06-2.06.94z\"/><path d=\"M17.41 7.96l-1.37-1.37c-.4-.4-.92-.59-1.43-.59-.52 0-1.04.2-1.43.59L10.3 9.45l-7.72 7.72c-.78.78-.78 2.05 0 2.83L4 21.41c.39.39.9.59 1.41.59.51 0 1.02-.2 1.41-.59l7.78-7.78 2.81-2.81c.8-.78.8-2.07 0-2.86zM5.41 20L4 18.59l7.72-7.72 1.47 1.35L5.41 20z\"/>\n",
              "  </svg>\n",
              "      </button>\n",
              "      \n",
              "  <style>\n",
              "    .colab-df-container {\n",
              "      display:flex;\n",
              "      flex-wrap:wrap;\n",
              "      gap: 12px;\n",
              "    }\n",
              "\n",
              "    .colab-df-convert {\n",
              "      background-color: #E8F0FE;\n",
              "      border: none;\n",
              "      border-radius: 50%;\n",
              "      cursor: pointer;\n",
              "      display: none;\n",
              "      fill: #1967D2;\n",
              "      height: 32px;\n",
              "      padding: 0 0 0 0;\n",
              "      width: 32px;\n",
              "    }\n",
              "\n",
              "    .colab-df-convert:hover {\n",
              "      background-color: #E2EBFA;\n",
              "      box-shadow: 0px 1px 2px rgba(60, 64, 67, 0.3), 0px 1px 3px 1px rgba(60, 64, 67, 0.15);\n",
              "      fill: #174EA6;\n",
              "    }\n",
              "\n",
              "    [theme=dark] .colab-df-convert {\n",
              "      background-color: #3B4455;\n",
              "      fill: #D2E3FC;\n",
              "    }\n",
              "\n",
              "    [theme=dark] .colab-df-convert:hover {\n",
              "      background-color: #434B5C;\n",
              "      box-shadow: 0px 1px 3px 1px rgba(0, 0, 0, 0.15);\n",
              "      filter: drop-shadow(0px 1px 2px rgba(0, 0, 0, 0.3));\n",
              "      fill: #FFFFFF;\n",
              "    }\n",
              "  </style>\n",
              "\n",
              "      <script>\n",
              "        const buttonEl =\n",
              "          document.querySelector('#df-0707a169-7874-4871-a7c8-10fd07c52555 button.colab-df-convert');\n",
              "        buttonEl.style.display =\n",
              "          google.colab.kernel.accessAllowed ? 'block' : 'none';\n",
              "\n",
              "        async function convertToInteractive(key) {\n",
              "          const element = document.querySelector('#df-0707a169-7874-4871-a7c8-10fd07c52555');\n",
              "          const dataTable =\n",
              "            await google.colab.kernel.invokeFunction('convertToInteractive',\n",
              "                                                     [key], {});\n",
              "          if (!dataTable) return;\n",
              "\n",
              "          const docLinkHtml = 'Like what you see? Visit the ' +\n",
              "            '<a target=\"_blank\" href=https://colab.research.google.com/notebooks/data_table.ipynb>data table notebook</a>'\n",
              "            + ' to learn more about interactive tables.';\n",
              "          element.innerHTML = '';\n",
              "          dataTable['output_type'] = 'display_data';\n",
              "          await google.colab.output.renderOutput(dataTable, element);\n",
              "          const docLink = document.createElement('div');\n",
              "          docLink.innerHTML = docLinkHtml;\n",
              "          element.appendChild(docLink);\n",
              "        }\n",
              "      </script>\n",
              "    </div>\n",
              "  </div>\n",
              "  "
            ]
          },
          "metadata": {},
          "execution_count": 153
        }
      ]
    },
    {
      "cell_type": "code",
      "source": [
        "df.describe().round(2).style.background_gradient()\n"
      ],
      "metadata": {
        "colab": {
          "base_uri": "https://localhost:8080/",
          "height": 300
        },
        "id": "rt93ONnmR3vP",
        "outputId": "12a04a98-56ad-432a-9fc8-cc800ee0c934"
      },
      "execution_count": null,
      "outputs": [
        {
          "output_type": "execute_result",
          "data": {
            "text/plain": [
              "<pandas.io.formats.style.Styler at 0x7fb41b03da60>"
            ],
            "text/html": [
              "<style type=\"text/css\">\n",
              "#T_8e3a1_row0_col0, #T_8e3a1_row0_col1, #T_8e3a1_row0_col2, #T_8e3a1_row0_col3, #T_8e3a1_row0_col4, #T_8e3a1_row0_col5, #T_8e3a1_row0_col6, #T_8e3a1_row0_col7, #T_8e3a1_row0_col8 {\n",
              "  background-color: #023858;\n",
              "  color: #f1f1f1;\n",
              "}\n",
              "#T_8e3a1_row1_col0, #T_8e3a1_row1_col1, #T_8e3a1_row1_col2, #T_8e3a1_row1_col3, #T_8e3a1_row1_col4, #T_8e3a1_row1_col5, #T_8e3a1_row1_col6, #T_8e3a1_row1_col7, #T_8e3a1_row1_col8, #T_8e3a1_row2_col0, #T_8e3a1_row2_col1, #T_8e3a1_row2_col2, #T_8e3a1_row2_col3, #T_8e3a1_row2_col4, #T_8e3a1_row2_col5, #T_8e3a1_row2_col6, #T_8e3a1_row2_col7, #T_8e3a1_row2_col8, #T_8e3a1_row3_col0, #T_8e3a1_row3_col1, #T_8e3a1_row3_col2, #T_8e3a1_row3_col3, #T_8e3a1_row3_col4, #T_8e3a1_row3_col5, #T_8e3a1_row3_col6, #T_8e3a1_row3_col7, #T_8e3a1_row3_col8, #T_8e3a1_row4_col0, #T_8e3a1_row4_col1, #T_8e3a1_row4_col2, #T_8e3a1_row4_col3, #T_8e3a1_row4_col4, #T_8e3a1_row4_col5, #T_8e3a1_row4_col6, #T_8e3a1_row4_col7, #T_8e3a1_row4_col8, #T_8e3a1_row5_col0, #T_8e3a1_row5_col1, #T_8e3a1_row5_col2, #T_8e3a1_row5_col3, #T_8e3a1_row5_col4, #T_8e3a1_row5_col5, #T_8e3a1_row5_col6, #T_8e3a1_row5_col7, #T_8e3a1_row5_col8, #T_8e3a1_row6_col0, #T_8e3a1_row6_col1, #T_8e3a1_row6_col2, #T_8e3a1_row6_col3, #T_8e3a1_row6_col4, #T_8e3a1_row6_col5, #T_8e3a1_row6_col6, #T_8e3a1_row6_col7, #T_8e3a1_row6_col8, #T_8e3a1_row7_col0, #T_8e3a1_row7_col1, #T_8e3a1_row7_col2, #T_8e3a1_row7_col3, #T_8e3a1_row7_col4, #T_8e3a1_row7_col5, #T_8e3a1_row7_col6, #T_8e3a1_row7_col7, #T_8e3a1_row7_col8 {\n",
              "  background-color: #fff7fb;\n",
              "  color: #000000;\n",
              "}\n",
              "</style>\n",
              "<table id=\"T_8e3a1_\" class=\"dataframe\">\n",
              "  <thead>\n",
              "    <tr>\n",
              "      <th class=\"blank level0\" >&nbsp;</th>\n",
              "      <th class=\"col_heading level0 col0\" >V12</th>\n",
              "      <th class=\"col_heading level0 col1\" >V14</th>\n",
              "      <th class=\"col_heading level0 col2\" >V17</th>\n",
              "      <th class=\"col_heading level0 col3\" >V16</th>\n",
              "      <th class=\"col_heading level0 col4\" >V10</th>\n",
              "      <th class=\"col_heading level0 col5\" >V3</th>\n",
              "      <th class=\"col_heading level0 col6\" >V7</th>\n",
              "      <th class=\"col_heading level0 col7\" >Scaled_Amount</th>\n",
              "      <th class=\"col_heading level0 col8\" >Class</th>\n",
              "    </tr>\n",
              "  </thead>\n",
              "  <tbody>\n",
              "    <tr>\n",
              "      <th id=\"T_8e3a1_level0_row0\" class=\"row_heading level0 row0\" >count</th>\n",
              "      <td id=\"T_8e3a1_row0_col0\" class=\"data row0 col0\" >283726.000000</td>\n",
              "      <td id=\"T_8e3a1_row0_col1\" class=\"data row0 col1\" >283726.000000</td>\n",
              "      <td id=\"T_8e3a1_row0_col2\" class=\"data row0 col2\" >283726.000000</td>\n",
              "      <td id=\"T_8e3a1_row0_col3\" class=\"data row0 col3\" >283726.000000</td>\n",
              "      <td id=\"T_8e3a1_row0_col4\" class=\"data row0 col4\" >283726.000000</td>\n",
              "      <td id=\"T_8e3a1_row0_col5\" class=\"data row0 col5\" >283726.000000</td>\n",
              "      <td id=\"T_8e3a1_row0_col6\" class=\"data row0 col6\" >283726.000000</td>\n",
              "      <td id=\"T_8e3a1_row0_col7\" class=\"data row0 col7\" >283726.000000</td>\n",
              "      <td id=\"T_8e3a1_row0_col8\" class=\"data row0 col8\" >283726.000000</td>\n",
              "    </tr>\n",
              "    <tr>\n",
              "      <th id=\"T_8e3a1_level0_row1\" class=\"row_heading level0 row1\" >mean</th>\n",
              "      <td id=\"T_8e3a1_row1_col0\" class=\"data row1 col0\" >-0.000000</td>\n",
              "      <td id=\"T_8e3a1_row1_col1\" class=\"data row1 col1\" >0.000000</td>\n",
              "      <td id=\"T_8e3a1_row1_col2\" class=\"data row1 col2\" >0.000000</td>\n",
              "      <td id=\"T_8e3a1_row1_col3\" class=\"data row1 col3\" >0.000000</td>\n",
              "      <td id=\"T_8e3a1_row1_col4\" class=\"data row1 col4\" >-0.000000</td>\n",
              "      <td id=\"T_8e3a1_row1_col5\" class=\"data row1 col5\" >0.000000</td>\n",
              "      <td id=\"T_8e3a1_row1_col6\" class=\"data row1 col6\" >0.000000</td>\n",
              "      <td id=\"T_8e3a1_row1_col7\" class=\"data row1 col7\" >-0.000000</td>\n",
              "      <td id=\"T_8e3a1_row1_col8\" class=\"data row1 col8\" >0.000000</td>\n",
              "    </tr>\n",
              "    <tr>\n",
              "      <th id=\"T_8e3a1_level0_row2\" class=\"row_heading level0 row2\" >std</th>\n",
              "      <td id=\"T_8e3a1_row2_col0\" class=\"data row2 col0\" >0.990000</td>\n",
              "      <td id=\"T_8e3a1_row2_col1\" class=\"data row2 col1\" >0.950000</td>\n",
              "      <td id=\"T_8e3a1_row2_col2\" class=\"data row2 col2\" >0.840000</td>\n",
              "      <td id=\"T_8e3a1_row2_col3\" class=\"data row2 col3\" >0.870000</td>\n",
              "      <td id=\"T_8e3a1_row2_col4\" class=\"data row2 col4\" >1.080000</td>\n",
              "      <td id=\"T_8e3a1_row2_col5\" class=\"data row2 col5\" >1.510000</td>\n",
              "      <td id=\"T_8e3a1_row2_col6\" class=\"data row2 col6\" >1.230000</td>\n",
              "      <td id=\"T_8e3a1_row2_col7\" class=\"data row2 col7\" >1.000000</td>\n",
              "      <td id=\"T_8e3a1_row2_col8\" class=\"data row2 col8\" >0.040000</td>\n",
              "    </tr>\n",
              "    <tr>\n",
              "      <th id=\"T_8e3a1_level0_row3\" class=\"row_heading level0 row3\" >min</th>\n",
              "      <td id=\"T_8e3a1_row3_col0\" class=\"data row3 col0\" >-18.680000</td>\n",
              "      <td id=\"T_8e3a1_row3_col1\" class=\"data row3 col1\" >-19.210000</td>\n",
              "      <td id=\"T_8e3a1_row3_col2\" class=\"data row3 col2\" >-25.160000</td>\n",
              "      <td id=\"T_8e3a1_row3_col3\" class=\"data row3 col3\" >-14.130000</td>\n",
              "      <td id=\"T_8e3a1_row3_col4\" class=\"data row3 col4\" >-24.590000</td>\n",
              "      <td id=\"T_8e3a1_row3_col5\" class=\"data row3 col5\" >-48.330000</td>\n",
              "      <td id=\"T_8e3a1_row3_col6\" class=\"data row3 col6\" >-43.560000</td>\n",
              "      <td id=\"T_8e3a1_row3_col7\" class=\"data row3 col7\" >-0.350000</td>\n",
              "      <td id=\"T_8e3a1_row3_col8\" class=\"data row3 col8\" >0.000000</td>\n",
              "    </tr>\n",
              "    <tr>\n",
              "      <th id=\"T_8e3a1_level0_row4\" class=\"row_heading level0 row4\" >25%</th>\n",
              "      <td id=\"T_8e3a1_row4_col0\" class=\"data row4 col0\" >-0.410000</td>\n",
              "      <td id=\"T_8e3a1_row4_col1\" class=\"data row4 col1\" >-0.430000</td>\n",
              "      <td id=\"T_8e3a1_row4_col2\" class=\"data row4 col2\" >-0.480000</td>\n",
              "      <td id=\"T_8e3a1_row4_col3\" class=\"data row4 col3\" >-0.470000</td>\n",
              "      <td id=\"T_8e3a1_row4_col4\" class=\"data row4 col4\" >-0.540000</td>\n",
              "      <td id=\"T_8e3a1_row4_col5\" class=\"data row4 col5\" >-0.890000</td>\n",
              "      <td id=\"T_8e3a1_row4_col6\" class=\"data row4 col6\" >-0.550000</td>\n",
              "      <td id=\"T_8e3a1_row4_col7\" class=\"data row4 col7\" >-0.330000</td>\n",
              "      <td id=\"T_8e3a1_row4_col8\" class=\"data row4 col8\" >0.000000</td>\n",
              "    </tr>\n",
              "    <tr>\n",
              "      <th id=\"T_8e3a1_level0_row5\" class=\"row_heading level0 row5\" >50%</th>\n",
              "      <td id=\"T_8e3a1_row5_col0\" class=\"data row5 col0\" >0.140000</td>\n",
              "      <td id=\"T_8e3a1_row5_col1\" class=\"data row5 col1\" >0.050000</td>\n",
              "      <td id=\"T_8e3a1_row5_col2\" class=\"data row5 col2\" >-0.070000</td>\n",
              "      <td id=\"T_8e3a1_row5_col3\" class=\"data row5 col3\" >0.070000</td>\n",
              "      <td id=\"T_8e3a1_row5_col4\" class=\"data row5 col4\" >-0.090000</td>\n",
              "      <td id=\"T_8e3a1_row5_col5\" class=\"data row5 col5\" >0.180000</td>\n",
              "      <td id=\"T_8e3a1_row5_col6\" class=\"data row5 col6\" >0.040000</td>\n",
              "      <td id=\"T_8e3a1_row5_col7\" class=\"data row5 col7\" >-0.270000</td>\n",
              "      <td id=\"T_8e3a1_row5_col8\" class=\"data row5 col8\" >0.000000</td>\n",
              "    </tr>\n",
              "    <tr>\n",
              "      <th id=\"T_8e3a1_level0_row6\" class=\"row_heading level0 row6\" >75%</th>\n",
              "      <td id=\"T_8e3a1_row6_col0\" class=\"data row6 col0\" >0.620000</td>\n",
              "      <td id=\"T_8e3a1_row6_col1\" class=\"data row6 col1\" >0.490000</td>\n",
              "      <td id=\"T_8e3a1_row6_col2\" class=\"data row6 col2\" >0.400000</td>\n",
              "      <td id=\"T_8e3a1_row6_col3\" class=\"data row6 col3\" >0.520000</td>\n",
              "      <td id=\"T_8e3a1_row6_col4\" class=\"data row6 col4\" >0.450000</td>\n",
              "      <td id=\"T_8e3a1_row6_col5\" class=\"data row6 col5\" >1.030000</td>\n",
              "      <td id=\"T_8e3a1_row6_col6\" class=\"data row6 col6\" >0.570000</td>\n",
              "      <td id=\"T_8e3a1_row6_col7\" class=\"data row6 col7\" >-0.040000</td>\n",
              "      <td id=\"T_8e3a1_row6_col8\" class=\"data row6 col8\" >0.000000</td>\n",
              "    </tr>\n",
              "    <tr>\n",
              "      <th id=\"T_8e3a1_level0_row7\" class=\"row_heading level0 row7\" >max</th>\n",
              "      <td id=\"T_8e3a1_row7_col0\" class=\"data row7 col0\" >7.850000</td>\n",
              "      <td id=\"T_8e3a1_row7_col1\" class=\"data row7 col1\" >10.530000</td>\n",
              "      <td id=\"T_8e3a1_row7_col2\" class=\"data row7 col2\" >9.250000</td>\n",
              "      <td id=\"T_8e3a1_row7_col3\" class=\"data row7 col3\" >17.320000</td>\n",
              "      <td id=\"T_8e3a1_row7_col4\" class=\"data row7 col4\" >23.750000</td>\n",
              "      <td id=\"T_8e3a1_row7_col5\" class=\"data row7 col5\" >9.380000</td>\n",
              "      <td id=\"T_8e3a1_row7_col6\" class=\"data row7 col6\" >120.590000</td>\n",
              "      <td id=\"T_8e3a1_row7_col7\" class=\"data row7 col7\" >102.250000</td>\n",
              "      <td id=\"T_8e3a1_row7_col8\" class=\"data row7 col8\" >1.000000</td>\n",
              "    </tr>\n",
              "  </tbody>\n",
              "</table>\n"
            ]
          },
          "metadata": {},
          "execution_count": 154
        }
      ]
    },
    {
      "cell_type": "markdown",
      "source": [
        "# **Machine Learning e modelos selecionados**"
      ],
      "metadata": {
        "id": "3pn2Lo-1SjqR"
      }
    },
    {
      "cell_type": "code",
      "source": [
        "X = df.drop('Class', axis = 1)\n",
        "y = df['Class']"
      ],
      "metadata": {
        "id": "GrMWgJdOvAkM"
      },
      "execution_count": null,
      "outputs": []
    },
    {
      "cell_type": "code",
      "source": [
        "X_train, X_test, y_train, y_test = train_test_split(X, y, stratify=y, test_size = 0.3, random_state = 42)"
      ],
      "metadata": {
        "id": "QTqBBJW1u7KG"
      },
      "execution_count": null,
      "outputs": []
    },
    {
      "cell_type": "code",
      "source": [
        "#Balanceando para ajustar modelo\n",
        "from imblearn.over_sampling import SMOTE \n",
        "\n",
        "smote=SMOTE(random_state=42)\n",
        "X_resampled, y_resampled = smote.fit_resample(X, y)\n",
        "\n",
        "fig = px.pie(values=y_resampled.value_counts(), width=800, height=400, title=\"Data Balance\",color_discrete_sequence=[\"skyblue\",\"black\"])\n",
        "fig.show()"
      ],
      "metadata": {
        "colab": {
          "base_uri": "https://localhost:8080/",
          "height": 417
        },
        "id": "J7Rd20evIfWG",
        "outputId": "6befa63b-7cfc-45b9-d404-1edcc28e1892"
      },
      "execution_count": null,
      "outputs": [
        {
          "output_type": "display_data",
          "data": {
            "text/html": [
              "<html>\n",
              "<head><meta charset=\"utf-8\" /></head>\n",
              "<body>\n",
              "    <div>            <script src=\"https://cdnjs.cloudflare.com/ajax/libs/mathjax/2.7.5/MathJax.js?config=TeX-AMS-MML_SVG\"></script><script type=\"text/javascript\">if (window.MathJax) {MathJax.Hub.Config({SVG: {font: \"STIX-Web\"}});}</script>                <script type=\"text/javascript\">window.PlotlyConfig = {MathJaxConfig: 'local'};</script>\n",
              "        <script src=\"https://cdn.plot.ly/plotly-2.8.3.min.js\"></script>                <div id=\"4a8d0205-7048-4a7c-aa8b-158bbf57761a\" class=\"plotly-graph-div\" style=\"height:400px; width:800px;\"></div>            <script type=\"text/javascript\">                                    window.PLOTLYENV=window.PLOTLYENV || {};                                    if (document.getElementById(\"4a8d0205-7048-4a7c-aa8b-158bbf57761a\")) {                    Plotly.newPlot(                        \"4a8d0205-7048-4a7c-aa8b-158bbf57761a\",                        [{\"domain\":{\"x\":[0.0,1.0],\"y\":[0.0,1.0]},\"hovertemplate\":\"value=%{value}<extra></extra>\",\"legendgroup\":\"\",\"name\":\"\",\"showlegend\":false,\"values\":[284315,284315],\"type\":\"pie\"}],                        {\"template\":{\"data\":{\"bar\":[{\"error_x\":{\"color\":\"#2a3f5f\"},\"error_y\":{\"color\":\"#2a3f5f\"},\"marker\":{\"line\":{\"color\":\"#E5ECF6\",\"width\":0.5},\"pattern\":{\"fillmode\":\"overlay\",\"size\":10,\"solidity\":0.2}},\"type\":\"bar\"}],\"barpolar\":[{\"marker\":{\"line\":{\"color\":\"#E5ECF6\",\"width\":0.5},\"pattern\":{\"fillmode\":\"overlay\",\"size\":10,\"solidity\":0.2}},\"type\":\"barpolar\"}],\"carpet\":[{\"aaxis\":{\"endlinecolor\":\"#2a3f5f\",\"gridcolor\":\"white\",\"linecolor\":\"white\",\"minorgridcolor\":\"white\",\"startlinecolor\":\"#2a3f5f\"},\"baxis\":{\"endlinecolor\":\"#2a3f5f\",\"gridcolor\":\"white\",\"linecolor\":\"white\",\"minorgridcolor\":\"white\",\"startlinecolor\":\"#2a3f5f\"},\"type\":\"carpet\"}],\"choropleth\":[{\"colorbar\":{\"outlinewidth\":0,\"ticks\":\"\"},\"type\":\"choropleth\"}],\"contour\":[{\"colorbar\":{\"outlinewidth\":0,\"ticks\":\"\"},\"colorscale\":[[0.0,\"#0d0887\"],[0.1111111111111111,\"#46039f\"],[0.2222222222222222,\"#7201a8\"],[0.3333333333333333,\"#9c179e\"],[0.4444444444444444,\"#bd3786\"],[0.5555555555555556,\"#d8576b\"],[0.6666666666666666,\"#ed7953\"],[0.7777777777777778,\"#fb9f3a\"],[0.8888888888888888,\"#fdca26\"],[1.0,\"#f0f921\"]],\"type\":\"contour\"}],\"contourcarpet\":[{\"colorbar\":{\"outlinewidth\":0,\"ticks\":\"\"},\"type\":\"contourcarpet\"}],\"heatmap\":[{\"colorbar\":{\"outlinewidth\":0,\"ticks\":\"\"},\"colorscale\":[[0.0,\"#0d0887\"],[0.1111111111111111,\"#46039f\"],[0.2222222222222222,\"#7201a8\"],[0.3333333333333333,\"#9c179e\"],[0.4444444444444444,\"#bd3786\"],[0.5555555555555556,\"#d8576b\"],[0.6666666666666666,\"#ed7953\"],[0.7777777777777778,\"#fb9f3a\"],[0.8888888888888888,\"#fdca26\"],[1.0,\"#f0f921\"]],\"type\":\"heatmap\"}],\"heatmapgl\":[{\"colorbar\":{\"outlinewidth\":0,\"ticks\":\"\"},\"colorscale\":[[0.0,\"#0d0887\"],[0.1111111111111111,\"#46039f\"],[0.2222222222222222,\"#7201a8\"],[0.3333333333333333,\"#9c179e\"],[0.4444444444444444,\"#bd3786\"],[0.5555555555555556,\"#d8576b\"],[0.6666666666666666,\"#ed7953\"],[0.7777777777777778,\"#fb9f3a\"],[0.8888888888888888,\"#fdca26\"],[1.0,\"#f0f921\"]],\"type\":\"heatmapgl\"}],\"histogram\":[{\"marker\":{\"pattern\":{\"fillmode\":\"overlay\",\"size\":10,\"solidity\":0.2}},\"type\":\"histogram\"}],\"histogram2d\":[{\"colorbar\":{\"outlinewidth\":0,\"ticks\":\"\"},\"colorscale\":[[0.0,\"#0d0887\"],[0.1111111111111111,\"#46039f\"],[0.2222222222222222,\"#7201a8\"],[0.3333333333333333,\"#9c179e\"],[0.4444444444444444,\"#bd3786\"],[0.5555555555555556,\"#d8576b\"],[0.6666666666666666,\"#ed7953\"],[0.7777777777777778,\"#fb9f3a\"],[0.8888888888888888,\"#fdca26\"],[1.0,\"#f0f921\"]],\"type\":\"histogram2d\"}],\"histogram2dcontour\":[{\"colorbar\":{\"outlinewidth\":0,\"ticks\":\"\"},\"colorscale\":[[0.0,\"#0d0887\"],[0.1111111111111111,\"#46039f\"],[0.2222222222222222,\"#7201a8\"],[0.3333333333333333,\"#9c179e\"],[0.4444444444444444,\"#bd3786\"],[0.5555555555555556,\"#d8576b\"],[0.6666666666666666,\"#ed7953\"],[0.7777777777777778,\"#fb9f3a\"],[0.8888888888888888,\"#fdca26\"],[1.0,\"#f0f921\"]],\"type\":\"histogram2dcontour\"}],\"mesh3d\":[{\"colorbar\":{\"outlinewidth\":0,\"ticks\":\"\"},\"type\":\"mesh3d\"}],\"parcoords\":[{\"line\":{\"colorbar\":{\"outlinewidth\":0,\"ticks\":\"\"}},\"type\":\"parcoords\"}],\"pie\":[{\"automargin\":true,\"type\":\"pie\"}],\"scatter\":[{\"marker\":{\"colorbar\":{\"outlinewidth\":0,\"ticks\":\"\"}},\"type\":\"scatter\"}],\"scatter3d\":[{\"line\":{\"colorbar\":{\"outlinewidth\":0,\"ticks\":\"\"}},\"marker\":{\"colorbar\":{\"outlinewidth\":0,\"ticks\":\"\"}},\"type\":\"scatter3d\"}],\"scattercarpet\":[{\"marker\":{\"colorbar\":{\"outlinewidth\":0,\"ticks\":\"\"}},\"type\":\"scattercarpet\"}],\"scattergeo\":[{\"marker\":{\"colorbar\":{\"outlinewidth\":0,\"ticks\":\"\"}},\"type\":\"scattergeo\"}],\"scattergl\":[{\"marker\":{\"colorbar\":{\"outlinewidth\":0,\"ticks\":\"\"}},\"type\":\"scattergl\"}],\"scattermapbox\":[{\"marker\":{\"colorbar\":{\"outlinewidth\":0,\"ticks\":\"\"}},\"type\":\"scattermapbox\"}],\"scatterpolar\":[{\"marker\":{\"colorbar\":{\"outlinewidth\":0,\"ticks\":\"\"}},\"type\":\"scatterpolar\"}],\"scatterpolargl\":[{\"marker\":{\"colorbar\":{\"outlinewidth\":0,\"ticks\":\"\"}},\"type\":\"scatterpolargl\"}],\"scatterternary\":[{\"marker\":{\"colorbar\":{\"outlinewidth\":0,\"ticks\":\"\"}},\"type\":\"scatterternary\"}],\"surface\":[{\"colorbar\":{\"outlinewidth\":0,\"ticks\":\"\"},\"colorscale\":[[0.0,\"#0d0887\"],[0.1111111111111111,\"#46039f\"],[0.2222222222222222,\"#7201a8\"],[0.3333333333333333,\"#9c179e\"],[0.4444444444444444,\"#bd3786\"],[0.5555555555555556,\"#d8576b\"],[0.6666666666666666,\"#ed7953\"],[0.7777777777777778,\"#fb9f3a\"],[0.8888888888888888,\"#fdca26\"],[1.0,\"#f0f921\"]],\"type\":\"surface\"}],\"table\":[{\"cells\":{\"fill\":{\"color\":\"#EBF0F8\"},\"line\":{\"color\":\"white\"}},\"header\":{\"fill\":{\"color\":\"#C8D4E3\"},\"line\":{\"color\":\"white\"}},\"type\":\"table\"}]},\"layout\":{\"annotationdefaults\":{\"arrowcolor\":\"#2a3f5f\",\"arrowhead\":0,\"arrowwidth\":1},\"autotypenumbers\":\"strict\",\"coloraxis\":{\"colorbar\":{\"outlinewidth\":0,\"ticks\":\"\"}},\"colorscale\":{\"diverging\":[[0,\"#8e0152\"],[0.1,\"#c51b7d\"],[0.2,\"#de77ae\"],[0.3,\"#f1b6da\"],[0.4,\"#fde0ef\"],[0.5,\"#f7f7f7\"],[0.6,\"#e6f5d0\"],[0.7,\"#b8e186\"],[0.8,\"#7fbc41\"],[0.9,\"#4d9221\"],[1,\"#276419\"]],\"sequential\":[[0.0,\"#0d0887\"],[0.1111111111111111,\"#46039f\"],[0.2222222222222222,\"#7201a8\"],[0.3333333333333333,\"#9c179e\"],[0.4444444444444444,\"#bd3786\"],[0.5555555555555556,\"#d8576b\"],[0.6666666666666666,\"#ed7953\"],[0.7777777777777778,\"#fb9f3a\"],[0.8888888888888888,\"#fdca26\"],[1.0,\"#f0f921\"]],\"sequentialminus\":[[0.0,\"#0d0887\"],[0.1111111111111111,\"#46039f\"],[0.2222222222222222,\"#7201a8\"],[0.3333333333333333,\"#9c179e\"],[0.4444444444444444,\"#bd3786\"],[0.5555555555555556,\"#d8576b\"],[0.6666666666666666,\"#ed7953\"],[0.7777777777777778,\"#fb9f3a\"],[0.8888888888888888,\"#fdca26\"],[1.0,\"#f0f921\"]]},\"colorway\":[\"#636efa\",\"#EF553B\",\"#00cc96\",\"#ab63fa\",\"#FFA15A\",\"#19d3f3\",\"#FF6692\",\"#B6E880\",\"#FF97FF\",\"#FECB52\"],\"font\":{\"color\":\"#2a3f5f\"},\"geo\":{\"bgcolor\":\"white\",\"lakecolor\":\"white\",\"landcolor\":\"#E5ECF6\",\"showlakes\":true,\"showland\":true,\"subunitcolor\":\"white\"},\"hoverlabel\":{\"align\":\"left\"},\"hovermode\":\"closest\",\"mapbox\":{\"style\":\"light\"},\"paper_bgcolor\":\"white\",\"plot_bgcolor\":\"#E5ECF6\",\"polar\":{\"angularaxis\":{\"gridcolor\":\"white\",\"linecolor\":\"white\",\"ticks\":\"\"},\"bgcolor\":\"#E5ECF6\",\"radialaxis\":{\"gridcolor\":\"white\",\"linecolor\":\"white\",\"ticks\":\"\"}},\"scene\":{\"xaxis\":{\"backgroundcolor\":\"#E5ECF6\",\"gridcolor\":\"white\",\"gridwidth\":2,\"linecolor\":\"white\",\"showbackground\":true,\"ticks\":\"\",\"zerolinecolor\":\"white\"},\"yaxis\":{\"backgroundcolor\":\"#E5ECF6\",\"gridcolor\":\"white\",\"gridwidth\":2,\"linecolor\":\"white\",\"showbackground\":true,\"ticks\":\"\",\"zerolinecolor\":\"white\"},\"zaxis\":{\"backgroundcolor\":\"#E5ECF6\",\"gridcolor\":\"white\",\"gridwidth\":2,\"linecolor\":\"white\",\"showbackground\":true,\"ticks\":\"\",\"zerolinecolor\":\"white\"}},\"shapedefaults\":{\"line\":{\"color\":\"#2a3f5f\"}},\"ternary\":{\"aaxis\":{\"gridcolor\":\"white\",\"linecolor\":\"white\",\"ticks\":\"\"},\"baxis\":{\"gridcolor\":\"white\",\"linecolor\":\"white\",\"ticks\":\"\"},\"bgcolor\":\"#E5ECF6\",\"caxis\":{\"gridcolor\":\"white\",\"linecolor\":\"white\",\"ticks\":\"\"}},\"title\":{\"x\":0.05},\"xaxis\":{\"automargin\":true,\"gridcolor\":\"white\",\"linecolor\":\"white\",\"ticks\":\"\",\"title\":{\"standoff\":15},\"zerolinecolor\":\"white\",\"zerolinewidth\":2},\"yaxis\":{\"automargin\":true,\"gridcolor\":\"white\",\"linecolor\":\"white\",\"ticks\":\"\",\"title\":{\"standoff\":15},\"zerolinecolor\":\"white\",\"zerolinewidth\":2}}},\"legend\":{\"tracegroupgap\":0},\"title\":{\"text\":\"Data Balance\"},\"piecolorway\":[\"skyblue\",\"black\"],\"height\":400,\"width\":800},                        {\"responsive\": true}                    ).then(function(){\n",
              "                            \n",
              "var gd = document.getElementById('4a8d0205-7048-4a7c-aa8b-158bbf57761a');\n",
              "var x = new MutationObserver(function (mutations, observer) {{\n",
              "        var display = window.getComputedStyle(gd).display;\n",
              "        if (!display || display === 'none') {{\n",
              "            console.log([gd, 'removed!']);\n",
              "            Plotly.purge(gd);\n",
              "            observer.disconnect();\n",
              "        }}\n",
              "}});\n",
              "\n",
              "// Listen for the removal of the full notebook cells\n",
              "var notebookContainer = gd.closest('#notebook-container');\n",
              "if (notebookContainer) {{\n",
              "    x.observe(notebookContainer, {childList: true});\n",
              "}}\n",
              "\n",
              "// Listen for the clearing of the current output cell\n",
              "var outputEl = gd.closest('.output');\n",
              "if (outputEl) {{\n",
              "    x.observe(outputEl, {childList: true});\n",
              "}}\n",
              "\n",
              "                        })                };                            </script>        </div>\n",
              "</body>\n",
              "</html>"
            ]
          },
          "metadata": {}
        }
      ]
    },
    {
      "cell_type": "markdown",
      "source": [
        "**Naive Bayes**"
      ],
      "metadata": {
        "id": "Qq3qIGHrVbOI"
      }
    },
    {
      "cell_type": "markdown",
      "source": [
        "Mesmo o modelo Gausiano assumindo que não há ruído ou praticamente isso, vamos testá-lo por sua capacidade com interpolação de dados, ou seja, de fazer dada previsão o mais confiável possível fora do intervalo de certeza e ajustar bem o modelo a esses pontos"
      ],
      "metadata": {
        "id": "ldkta4Xfdqy2"
      }
    },
    {
      "cell_type": "code",
      "source": [
        "from sklearn.naive_bayes import GaussianNB"
      ],
      "metadata": {
        "id": "_Kc8KbViViXk"
      },
      "execution_count": null,
      "outputs": []
    },
    {
      "cell_type": "code",
      "source": [
        "naive=GaussianNB()\n",
        "naive.fit(X_train , y_train)"
      ],
      "metadata": {
        "id": "tP9EQhL1Vmki",
        "colab": {
          "base_uri": "https://localhost:8080/"
        },
        "outputId": "dd9b683f-37c9-4b27-9ee7-0423be4d4712"
      },
      "execution_count": null,
      "outputs": [
        {
          "output_type": "execute_result",
          "data": {
            "text/plain": [
              "GaussianNB()"
            ]
          },
          "metadata": {},
          "execution_count": 12
        }
      ]
    },
    {
      "cell_type": "code",
      "source": [
        "naive.score(X_train , y_train).round(4)"
      ],
      "metadata": {
        "colab": {
          "base_uri": "https://localhost:8080/"
        },
        "id": "_Rp4RasdWNPc",
        "outputId": "0b1d320d-e585-4fc5-c48b-5ac167df59a5"
      },
      "execution_count": null,
      "outputs": [
        {
          "output_type": "execute_result",
          "data": {
            "text/plain": [
              "0.993"
            ]
          },
          "metadata": {},
          "execution_count": 13
        }
      ]
    },
    {
      "cell_type": "code",
      "source": [
        "naive_preds=naive.predict(X_test)"
      ],
      "metadata": {
        "id": "uejzhdkVg6dr"
      },
      "execution_count": null,
      "outputs": []
    },
    {
      "cell_type": "code",
      "source": [
        "#Plotando matriz de confusão\n",
        "plot_confusion_matrix(naive, X_test, y_test, cmap='plasma')\n",
        "plt.title('Naive: Confusion Matrix', fontsize=14)\n",
        "plt.show()"
      ],
      "metadata": {
        "colab": {
          "base_uri": "https://localhost:8080/",
          "height": 296
        },
        "id": "ex4EnfYvhALV",
        "outputId": "b8319e38-f530-4821-cca3-10329cf1b39d"
      },
      "execution_count": null,
      "outputs": [
        {
          "output_type": "display_data",
          "data": {
            "text/plain": [
              "<Figure size 432x288 with 2 Axes>"
            ],
            "image/png": "[encoded data removed]"
          },
          "metadata": {
            "needs_background": "light"
          }
        }
      ]
    },
    {
      "cell_type": "code",
      "source": [
        "print(f'\\t\\tNaive Model has A:- \\n\\nAccuracy: {accuracy_score(y_test,naive_preds).round(4)}\\t\\trecall_Score: {recall_score(y_test,naive_preds).round(4)}\\nPrecision_score: {precision_score(y_test,naive_preds).round(4)}\\t\\tF1-score equals: {f1_score(y_test,naive_preds).round(4)}')"
      ],
      "metadata": {
        "colab": {
          "base_uri": "https://localhost:8080/"
        },
        "id": "7GE6hSAdicvT",
        "outputId": "51dd029d-4104-4c3e-832f-e37e9043da98"
      },
      "execution_count": null,
      "outputs": [
        {
          "output_type": "stream",
          "name": "stdout",
          "text": [
            "\t\tNaive Model has A:- \n",
            "\n",
            "Accuracy: 0.9929\t\trecall_Score: 0.6216\n",
            "Precision_score: 0.1429\t\tF1-score equals: 0.2323\n"
          ]
        }
      ]
    },
    {
      "cell_type": "code",
      "source": [
        "from sklearn.metrics import classification_report\n",
        "print(classification_report(y_test, naive_preds))"
      ],
      "metadata": {
        "colab": {
          "base_uri": "https://localhost:8080/"
        },
        "id": "tPTT5TTxvWTE",
        "outputId": "7ce668b7-933b-4dd8-accd-1dfaf1e7bc49"
      },
      "execution_count": null,
      "outputs": [
        {
          "output_type": "stream",
          "name": "stdout",
          "text": [
            "              precision    recall  f1-score   support\n",
            "\n",
            "           0       1.00      0.99      1.00     85295\n",
            "           1       0.14      0.62      0.23       148\n",
            "\n",
            "    accuracy                           0.99     85443\n",
            "   macro avg       0.57      0.81      0.61     85443\n",
            "weighted avg       1.00      0.99      1.00     85443\n",
            "\n"
          ]
        }
      ]
    },
    {
      "cell_type": "markdown",
      "source": [
        "**Decision Tree**"
      ],
      "metadata": {
        "id": "L3-9xNfZpQBx"
      }
    },
    {
      "cell_type": "markdown",
      "source": [
        "Vamos utilizar agora o usual Decision Tree para buscar aprimoramento do modelo e visando mais camadas de tomadas de decisão, tomando cuidado para não termos um overfiting"
      ],
      "metadata": {
        "id": "M8MvDHT4pSw8"
      }
    },
    {
      "cell_type": "code",
      "source": [
        "from sklearn.tree  import DecisionTreeClassifier"
      ],
      "metadata": {
        "id": "Sa-w6tuSq7Aq"
      },
      "execution_count": null,
      "outputs": []
    },
    {
      "cell_type": "code",
      "source": [
        "dt =DecisionTreeClassifier(max_features=7 , max_depth=5)\n",
        "dt.fit(X_train , y_train)"
      ],
      "metadata": {
        "colab": {
          "base_uri": "https://localhost:8080/"
        },
        "id": "OlyHjragq0Po",
        "outputId": "78ae7778-17bf-4d16-c507-82655286891d"
      },
      "execution_count": null,
      "outputs": [
        {
          "output_type": "execute_result",
          "data": {
            "text/plain": [
              "DecisionTreeClassifier(max_depth=5, max_features=7)"
            ]
          },
          "metadata": {},
          "execution_count": 19
        }
      ]
    },
    {
      "cell_type": "code",
      "source": [
        "dt.score(X_train , y_train).round(4)"
      ],
      "metadata": {
        "colab": {
          "base_uri": "https://localhost:8080/"
        },
        "id": "buf2dRn0rNHm",
        "outputId": "8924471c-534e-4038-e35b-1fc414c811dc"
      },
      "execution_count": null,
      "outputs": [
        {
          "output_type": "execute_result",
          "data": {
            "text/plain": [
              "0.9995"
            ]
          },
          "metadata": {},
          "execution_count": 20
        }
      ]
    },
    {
      "cell_type": "code",
      "source": [
        "DT_preds=dt.predict(X_test)"
      ],
      "metadata": {
        "id": "nV1curSOw7Rl"
      },
      "execution_count": null,
      "outputs": []
    },
    {
      "cell_type": "code",
      "source": [
        "#Fazendo matriz de confusão\n",
        "plot_confusion_matrix(dt, X_test, y_test,cmap='cividis')\n",
        "plt.title('DT: Confusion Matrix', fontsize=14)\n",
        "plt.show()"
      ],
      "metadata": {
        "colab": {
          "base_uri": "https://localhost:8080/",
          "height": 296
        },
        "id": "bVeUcwoUsJ_j",
        "outputId": "3ca4ff94-366c-4a1f-ee03-c3919f271953"
      },
      "execution_count": null,
      "outputs": [
        {
          "output_type": "display_data",
          "data": {
            "text/plain": [
              "<Figure size 432x288 with 2 Axes>"
            ],
            "image/png": "[encoded data removed]"
          },
          "metadata": {
            "needs_background": "light"
          }
        }
      ]
    },
    {
      "cell_type": "code",
      "source": [
        "print(f'\\t\\tDT Model has A:- \\n\\nAccuracy: {accuracy_score(y_test,DT_preds).round(4)}\\t\\trecall_Score: {recall_score(y_test,DT_preds).round(4)}\\nPrecision_score: {precision_score(y_test,DT_preds).round(4)}\\t\\tF1-score equals: {f1_score(y_test,DT_preds).round(4)}')"
      ],
      "metadata": {
        "colab": {
          "base_uri": "https://localhost:8080/"
        },
        "id": "sXizJ7DZtwXs",
        "outputId": "86e8bf2e-ffac-4017-a20c-1b1106d02646"
      },
      "execution_count": null,
      "outputs": [
        {
          "output_type": "stream",
          "name": "stdout",
          "text": [
            "\t\tDT Model has A:- \n",
            "\n",
            "Accuracy: 0.9993\t\trecall_Score: 0.6689\n",
            "Precision_score: 0.8839\t\tF1-score equals: 0.7615\n"
          ]
        }
      ]
    },
    {
      "cell_type": "code",
      "source": [
        "print(classification_report(y_test, DT_preds))"
      ],
      "metadata": {
        "colab": {
          "base_uri": "https://localhost:8080/"
        },
        "id": "sCO4RaYet3iL",
        "outputId": "cacf2cc6-28f6-4427-ab11-9fde87ce5f3d"
      },
      "execution_count": null,
      "outputs": [
        {
          "output_type": "stream",
          "name": "stdout",
          "text": [
            "              precision    recall  f1-score   support\n",
            "\n",
            "           0       1.00      1.00      1.00     85295\n",
            "           1       0.88      0.67      0.76       148\n",
            "\n",
            "    accuracy                           1.00     85443\n",
            "   macro avg       0.94      0.83      0.88     85443\n",
            "weighted avg       1.00      1.00      1.00     85443\n",
            "\n"
          ]
        }
      ]
    },
    {
      "cell_type": "markdown",
      "source": [
        "**XGBoost**"
      ],
      "metadata": {
        "id": "Mw8SA7ogt59o"
      }
    },
    {
      "cell_type": "markdown",
      "source": [
        "Agora vamos utilizar um modelo de classificação baseado em Boosting, técnica diferente da utilizada no Decision Tree pois considera mais fatores relevantes durante o processo."
      ],
      "metadata": {
        "id": "fwV1DsVUuAHZ"
      }
    },
    {
      "cell_type": "code",
      "source": [
        "from xgboost import XGBClassifier"
      ],
      "metadata": {
        "id": "bCBorouBvhDP"
      },
      "execution_count": null,
      "outputs": []
    },
    {
      "cell_type": "code",
      "source": [
        "xgb = XGBClassifier()\n",
        "xgb.fit(X_train , y_train)"
      ],
      "metadata": {
        "colab": {
          "base_uri": "https://localhost:8080/"
        },
        "id": "LafY0VW7vi9G",
        "outputId": "27b8d27a-f8b2-43db-977e-2f62b6baf1b7"
      },
      "execution_count": null,
      "outputs": [
        {
          "output_type": "execute_result",
          "data": {
            "text/plain": [
              "XGBClassifier()"
            ]
          },
          "metadata": {},
          "execution_count": 26
        }
      ]
    },
    {
      "cell_type": "code",
      "source": [
        "xgb.score(X_train , y_train).round(4)"
      ],
      "metadata": {
        "colab": {
          "base_uri": "https://localhost:8080/"
        },
        "id": "uWh35oravyJM",
        "outputId": "501c66e9-b885-44c4-f9f2-88212597540e"
      },
      "execution_count": null,
      "outputs": [
        {
          "output_type": "execute_result",
          "data": {
            "text/plain": [
              "0.9997"
            ]
          },
          "metadata": {},
          "execution_count": 27
        }
      ]
    },
    {
      "cell_type": "code",
      "source": [
        "xgb_preds=xgb.predict(X_test)"
      ],
      "metadata": {
        "id": "NjJsjd6mwKri"
      },
      "execution_count": null,
      "outputs": []
    },
    {
      "cell_type": "code",
      "source": [
        "plot_confusion_matrix(xgb, X_test, y_test,cmap='Purples')\n",
        "plt.title('XGB: Confusion Matrix', fontsize=14)\n",
        "plt.show()"
      ],
      "metadata": {
        "colab": {
          "base_uri": "https://localhost:8080/",
          "height": 296
        },
        "id": "bY_UI1fWyCKP",
        "outputId": "b6387b29-58ba-4f79-a4d2-b02724e9474a"
      },
      "execution_count": null,
      "outputs": [
        {
          "output_type": "display_data",
          "data": {
            "text/plain": [
              "<Figure size 432x288 with 2 Axes>"
            ],
            "image/png": "[encoded data removed]"
          },
          "metadata": {
            "needs_background": "light"
          }
        }
      ]
    },
    {
      "cell_type": "code",
      "source": [
        "print(f'\\t\\tXGB Model has A:- \\n\\nAccuracy: {accuracy_score(y_test, xgb_preds).round(4)}\\t\\trecall_Score: {recall_score(y_test,xgb_preds).round(4)}\\nPrecision_score: {precision_score(y_test,xgb_preds).round(4)}\\t\\tF1-score equals: {f1_score(y_test,xgb_preds).round(4)}')"
      ],
      "metadata": {
        "colab": {
          "base_uri": "https://localhost:8080/"
        },
        "id": "VQAGTJXfyRVw",
        "outputId": "c13996b4-6bd9-483b-a2c9-3a1dbfab827c"
      },
      "execution_count": null,
      "outputs": [
        {
          "output_type": "stream",
          "name": "stdout",
          "text": [
            "\t\tXGB Model has A:- \n",
            "\n",
            "Accuracy: 0.9994\t\trecall_Score: 0.7568\n",
            "Precision_score: 0.896\t\tF1-score equals: 0.8205\n"
          ]
        }
      ]
    },
    {
      "cell_type": "markdown",
      "source": [
        "**Comparação final dos modelos**"
      ],
      "metadata": {
        "id": "H7TOYe91ypqa"
      }
    },
    {
      "cell_type": "code",
      "source": [
        "model_comparison={}\n",
        "model_comparison['Decision Tree']=[accuracy_score(y_test,DT_preds),f1_score(y_test,DT_preds,average='weighted'),precision_score(y_test,DT_preds),recall_score(y_test,DT_preds)]\n",
        "model_comparison['Naive']=[accuracy_score(y_test,naive_preds),f1_score(y_test,naive_preds,average='weighted'),precision_score(y_test,naive_preds),recall_score(y_test,naive_preds)]        \n",
        "model_comparison['XGboost']=[accuracy_score(y_test,xgb_preds),f1_score(y_test,xgb_preds,average='weighted'),precision_score(y_test,xgb_preds),recall_score(y_test,xgb_preds)]    "
      ],
      "metadata": {
        "id": "0z3Eh6n_ysXk"
      },
      "execution_count": null,
      "outputs": []
    },
    {
      "cell_type": "code",
      "source": [
        "Model_com_df=pd.DataFrame(model_comparison).T\n",
        "Model_com_df.columns=['Model Accuracy','Model F1-Score','precision','recall']\n",
        "Model_com_df=Model_com_df.sort_values(by='Model F1-Score',ascending=False)\n",
        "Model_com_df.style.format(\"{:.2%}\").background_gradient(cmap='Blues')"
      ],
      "metadata": {
        "id": "qfogf_m00MJS",
        "outputId": "a1084ef4-630c-4d34-953a-0fdf5a15b477",
        "colab": {
          "base_uri": "https://localhost:8080/",
          "height": 143
        }
      },
      "execution_count": null,
      "outputs": [
        {
          "output_type": "execute_result",
          "data": {
            "text/plain": [
              "<pandas.io.formats.style.Styler at 0x7fc76dea38e0>"
            ],
            "text/html": [
              "<style type=\"text/css\">\n",
              "#T_c52bc_row0_col0, #T_c52bc_row0_col1, #T_c52bc_row0_col2, #T_c52bc_row0_col3 {\n",
              "  background-color: #08306b;\n",
              "  color: #f1f1f1;\n",
              "}\n",
              "#T_c52bc_row1_col0 {\n",
              "  background-color: #083573;\n",
              "  color: #f1f1f1;\n",
              "}\n",
              "#T_c52bc_row1_col1 {\n",
              "  background-color: #083a7a;\n",
              "  color: #f1f1f1;\n",
              "}\n",
              "#T_c52bc_row1_col2 {\n",
              "  background-color: #083471;\n",
              "  color: #f1f1f1;\n",
              "}\n",
              "#T_c52bc_row1_col3 {\n",
              "  background-color: #a6cee4;\n",
              "  color: #000000;\n",
              "}\n",
              "#T_c52bc_row2_col0, #T_c52bc_row2_col1, #T_c52bc_row2_col2, #T_c52bc_row2_col3 {\n",
              "  background-color: #f7fbff;\n",
              "  color: #000000;\n",
              "}\n",
              "</style>\n",
              "<table id=\"T_c52bc_\" class=\"dataframe\">\n",
              "  <thead>\n",
              "    <tr>\n",
              "      <th class=\"blank level0\" >&nbsp;</th>\n",
              "      <th class=\"col_heading level0 col0\" >Model Accuracy</th>\n",
              "      <th class=\"col_heading level0 col1\" >Model F1-Score</th>\n",
              "      <th class=\"col_heading level0 col2\" >precision</th>\n",
              "      <th class=\"col_heading level0 col3\" >recall</th>\n",
              "    </tr>\n",
              "  </thead>\n",
              "  <tbody>\n",
              "    <tr>\n",
              "      <th id=\"T_c52bc_level0_row0\" class=\"row_heading level0 row0\" >XGboost</th>\n",
              "      <td id=\"T_c52bc_row0_col0\" class=\"data row0 col0\" >99.94%</td>\n",
              "      <td id=\"T_c52bc_row0_col1\" class=\"data row0 col1\" >99.94%</td>\n",
              "      <td id=\"T_c52bc_row0_col2\" class=\"data row0 col2\" >89.60%</td>\n",
              "      <td id=\"T_c52bc_row0_col3\" class=\"data row0 col3\" >75.68%</td>\n",
              "    </tr>\n",
              "    <tr>\n",
              "      <th id=\"T_c52bc_level0_row1\" class=\"row_heading level0 row1\" >Decision Tree</th>\n",
              "      <td id=\"T_c52bc_row1_col0\" class=\"data row1 col0\" >99.93%</td>\n",
              "      <td id=\"T_c52bc_row1_col1\" class=\"data row1 col1\" >99.92%</td>\n",
              "      <td id=\"T_c52bc_row1_col2\" class=\"data row1 col2\" >88.39%</td>\n",
              "      <td id=\"T_c52bc_row1_col3\" class=\"data row1 col3\" >66.89%</td>\n",
              "    </tr>\n",
              "    <tr>\n",
              "      <th id=\"T_c52bc_level0_row2\" class=\"row_heading level0 row2\" >Naive</th>\n",
              "      <td id=\"T_c52bc_row2_col0\" class=\"data row2 col0\" >99.29%</td>\n",
              "      <td id=\"T_c52bc_row2_col1\" class=\"data row2 col1\" >99.51%</td>\n",
              "      <td id=\"T_c52bc_row2_col2\" class=\"data row2 col2\" >14.29%</td>\n",
              "      <td id=\"T_c52bc_row2_col3\" class=\"data row2 col3\" >62.16%</td>\n",
              "    </tr>\n",
              "  </tbody>\n",
              "</table>\n"
            ]
          },
          "metadata": {},
          "execution_count": 32
        }
      ]
    },
    {
      "cell_type": "markdown",
      "source": [
        "Aqui notamos uma superioridade do modelo XGBoost, o que já era esperado aja visto que o mesmo é uma versão mais recente e aprimorada, por exemplo, de modelos como o Random Forest. O Recall, que seria a capacidade de predição em novos datasets e situações é o mais aprimorado também e isso pode ser devido a ideia do boosting, é nossa métrica mais importante para essa situação problema. As acurácias de todos os modelos são boas"
      ],
      "metadata": {
        "id": "Ff4jJJ7p5dSB"
      }
    },
    {
      "cell_type": "markdown",
      "source": [
        "## **Lei LGPD e SHAP**"
      ],
      "metadata": {
        "id": "MBJ7EHwbYai_"
      }
    },
    {
      "cell_type": "code",
      "source": [
        "import shap \n"
      ],
      "metadata": {
        "id": "ncYh8Qe9ZI9m"
      },
      "execution_count": null,
      "outputs": []
    },
    {
      "cell_type": "code",
      "source": [
        "#Explanando as influências das variáveis na predição (Decision Tree)\n",
        "explainer = shap.TreeExplainer(dt)\n",
        "shap_values = explainer.shap_values(X_train)\n",
        "shap.summary_plot(shap_values, X_train)"
      ],
      "metadata": {
        "id": "7JF_SQRmZr4a",
        "colab": {
          "base_uri": "https://localhost:8080/",
          "height": 348
        },
        "outputId": "a869fa03-07aa-4ba7-9b40-95ee82aeb8cb"
      },
      "execution_count": null,
      "outputs": [
        {
          "output_type": "display_data",
          "data": {
            "text/plain": [
              "<Figure size 576x338.4 with 1 Axes>"
            ],
            "image/png": "[encoded data removed]"
          },
          "metadata": {
            "needs_background": "light"
          }
        }
      ]
    },
    {
      "cell_type": "code",
      "source": [
        "shap.summary_plot(shap_values[1], X_train)\n"
      ],
      "metadata": {
        "id": "pcjVDb6zbaAI",
        "colab": {
          "base_uri": "https://localhost:8080/",
          "height": 348
        },
        "outputId": "d04cd52e-c246-4189-a456-62f3a1397b7f"
      },
      "execution_count": null,
      "outputs": [
        {
          "output_type": "display_data",
          "data": {
            "text/plain": [
              "<Figure size 576x338.4 with 2 Axes>"
            ],
            "image/png": "[encoded data removed]"
          },
          "metadata": {
            "needs_background": "light"
          }
        }
      ]
    },
    {
      "cell_type": "markdown",
      "source": [
        "Aqui notamos que valores altos (em rosa) das variáveis impactam mais em não ser fraude, enquanto os em azuis parecem ter correlação oposta. Isso nos auxilia em uma possível justificativa para o cliente de uma compra ser rejeitada, pois a lei LGPD garante ao consumidor, caso deseje, a justificativa da operadora e/ou empresa"
      ],
      "metadata": {
        "id": "gJyUTXnseuy4"
      }
    }
  ]
}